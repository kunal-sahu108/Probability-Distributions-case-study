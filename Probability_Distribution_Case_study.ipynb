{
 "cells": [
  {
   "cell_type": "markdown",
   "metadata": {
    "id": "RpqF22Qe0npO"
   },
   "source": [
    "#A Case Study on Probability Distributions\n",
    "\n"
   ]
  },
  {
   "cell_type": "markdown",
   "metadata": {
    "id": "3AexE8ZPECXa"
   },
   "source": [
    "## Problem Statement\n",
    "\n",
    "Akshay decided to use probability distributions for finding outliers and other useful information about the athletes while also understanding the spread of the dataset. He wanted to use basic distributions such as normal distributions, binomial distributions, uniform distributions, etc. Akshay also has another dataset from which he hopes to examine the earnings of different athletes. Akshay also wants to uncover outliers in the data as well as the most likely combinations of elements."
   ]
  },
  {
   "cell_type": "markdown",
   "metadata": {
    "id": "bvTHfsuX_5JJ"
   },
   "source": [
    "## Dataset Description\n",
    "<br>\n",
    "\n",
    " **rcc** - Red Blood Cell Count, in 1012-1\n",
    "\n",
    " **Wcc** - White Blood Cell Count, in 1012 per liter\n",
    " \n",
    " **Hc** - Hematocrit, percent\n",
    "\n",
    " **Hg** - Hemaglobin Concentration, in g per decaliter\n",
    "\n",
    " **Ferr** - Plasma Ferritins, ng dl-1\n",
    "\n",
    " **Bmi** - Body Mass Index, kg cm-2102\n",
    "\n",
    " **ssf** - sum of skin folds\n",
    "\n",
    " **pcBfat** - Percent Body Fat\n",
    "\n",
    " **Lbm** - Lean Body Mass, kg\n",
    "\n",
    " **Ht** - Height, cm\n",
    "\n",
    " **Wt** - Weight, kg\n",
    "\n",
    " **Sex** - a factor with levels f m\n",
    " \n",
    " **Sport** - This includes a variety of sports fields (B_Ball, Row, Netball, Swim, Field, T_400m, T_Sprnt, Tennis, Gym, and W_Polo). "
   ]
  },
  {
   "cell_type": "markdown",
   "metadata": {
    "id": "WQ6CRBMMfcwL"
   },
   "source": [
    "<a id='toc0_'></a>**Table of contents**  \n",
    "\n",
    "- [**A Case Study on Probability Distributions**](#toc1_)        \n",
    "  - [**1. Introduction**](#toc1_1_)\n",
    "      - [**What is Probability Distrbution**](#toc1_1_1)\n",
    "  - [**2. Importing Necessary Libraries**](#toc1_2_)    \n",
    "  - [**3. Loading Dataset**](#toc1_3_)    \n",
    "  - [**4. Perform Exploratory Data Analysis**](#toc1_4_)    \n",
    "    - [**Finding and handling null values**](#toc1_4_1_)\n",
    "    - [**Finding and handling duplicate values**](#toc1_4_2_)    \n",
    "    - [**Dropping the Duplicated Values**](#toc1_4_3_)    \n",
    "    - [**The number of unique values for each column**](#toc1_4_4_) \n",
    "    - [**Finding the Correlations between the columns**](#toc1_4_5_)  \n",
    "  - [**5. Normal Distribution**](#toc1_5_) \n",
    "  - [**6. Uniform Distribution**](#toc1_6_) \n",
    "  - [**7. Binominal Distribution**](#toc1_7_)\n",
    "  - [**8. Bernoulli Distribution**](#toc1_10_)\n",
    "  - [**9. Poisson Distribution**](#toc1_8_)\n",
    "  - [**10. Exponential Distribution**](#toc1_9_)\n",
    "  - [**11. Conclusion**](#toc1_11_)\n"
   ]
  },
  {
   "cell_type": "markdown",
   "metadata": {
    "id": "0TAwStfDycMv"
   },
   "source": [
    "## <a id='toc1_1_'></a>[1. Introduction](#toc0_)"
   ]
  },
  {
   "cell_type": "markdown",
   "metadata": {
    "id": "GY3e2X5v0wAZ"
   },
   "source": [
    "## <a id='toc1_2_1'></a>[What is Probability Distribution](#toc0_)\n",
    "\n",
    "A probability distribution is a statistical function that helps describe the probability of reaching potential values ​​of a random variable. Determine all the possibilities that a random variable can represent from a range of values. This range includes lower and upper bounds containing the minimum and maximum values ​​required for analysis from the dataset.\n",
    "\n",
    "\n",
    "In this case study, we will examine the following six forms of probability distribution:\n",
    "\n",
    "\n",
    "1. Normal Distribution\n",
    "2. Uniform distribution\n",
    "3. Binomial Distribution\n",
    "4. Poisson distribution\n",
    "5. Exponential Distribution\n",
    "6. Bernoulli distribution\n",
    "\n",
    "\n"
   ]
  },
  {
   "cell_type": "markdown",
   "metadata": {
    "id": "XNM1U3vqyb9w"
   },
   "source": [
    "## <a id='toc1_2_'></a>[2. Importing Necessary Libraries](#toc0_)\n",
    "Here we are importing the libraries that are used in the code.<br>\n",
    "\n",
    "The following libraries are imported:<br>\n",
    "* Pandas : for Data Manuplation<br>\n",
    "* Numpy : for Numerical computation.<br>\n",
    "* seaborn and matplotlib and plotly : for beautiful Data Visualization <br>"
   ]
  },
  {
   "cell_type": "code",
   "execution_count": null,
   "metadata": {
    "id": "U9UA4D8Pybdu"
   },
   "outputs": [],
   "source": [
    "#importing necessary libraries\n",
    "import numpy as np\n",
    "import scipy.stats\n",
    "import pandas as pd\n",
    "import matplotlib.pyplot as plt\n",
    "import seaborn as sns\n",
    "import plotly.express as px"
   ]
  },
  {
   "cell_type": "markdown",
   "metadata": {
    "id": "emwaftVYzjzT"
   },
   "source": [
    "## <a id='toc1_3_'></a>[3. Loading Dataset](#toc0_)\n",
    "Here we are using the pandas module to import the dataset from the \"CSV\" file using the `read_csv()` Function.<br>\n",
    "\n",
    "You can read more about on <a href=\"https://pandas.pydata.org/docs/reference/api/pandas.read_csv.html\"> This Link</a>."
   ]
  },
  {
   "cell_type": "code",
   "execution_count": null,
   "metadata": {
    "id": "kbaSYZMlzjLG"
   },
   "outputs": [],
   "source": [
    "df = pd.read_csv('aus.csv') #loading the csv File to dataset"
   ]
  },
  {
   "cell_type": "markdown",
   "metadata": {
    "id": "1nM-nFJk0Dtu"
   },
   "source": [
    "Here we are using the `head()` method to see the first five rows of the columns."
   ]
  },
  {
   "cell_type": "code",
   "execution_count": null,
   "metadata": {
    "colab": {
     "base_uri": "https://localhost:8080/",
     "height": 363
    },
    "executionInfo": {
     "elapsed": 58,
     "status": "ok",
     "timestamp": 1673986361689,
     "user": {
      "displayName": "sasidhar Sai",
      "userId": "03910604699370000651"
     },
     "user_tz": -330
    },
    "id": "n4zwndc8yJDP",
    "outputId": "b02990f2-ba06-419c-96b5-1f92aeac6b1a"
   },
   "outputs": [
    {
     "data": {
      "text/html": [
       "\n",
       "  <div id=\"df-16fa2eba-6048-4211-ad2c-270b0fe040d3\">\n",
       "    <div class=\"colab-df-container\">\n",
       "      <div>\n",
       "<style scoped>\n",
       "    .dataframe tbody tr th:only-of-type {\n",
       "        vertical-align: middle;\n",
       "    }\n",
       "\n",
       "    .dataframe tbody tr th {\n",
       "        vertical-align: top;\n",
       "    }\n",
       "\n",
       "    .dataframe thead th {\n",
       "        text-align: right;\n",
       "    }\n",
       "</style>\n",
       "<table border=\"1\" class=\"dataframe\">\n",
       "  <thead>\n",
       "    <tr style=\"text-align: right;\">\n",
       "      <th></th>\n",
       "      <th>rcc</th>\n",
       "      <th>wcc</th>\n",
       "      <th>hc</th>\n",
       "      <th>hg</th>\n",
       "      <th>ferr</th>\n",
       "      <th>bmi</th>\n",
       "      <th>ssf</th>\n",
       "      <th>pcBfat</th>\n",
       "      <th>lbm</th>\n",
       "      <th>ht</th>\n",
       "      <th>wt</th>\n",
       "      <th>sex</th>\n",
       "      <th>sport</th>\n",
       "    </tr>\n",
       "  </thead>\n",
       "  <tbody>\n",
       "    <tr>\n",
       "      <th>0</th>\n",
       "      <td>3.96</td>\n",
       "      <td>7.5</td>\n",
       "      <td>37.5</td>\n",
       "      <td>12.3</td>\n",
       "      <td>60</td>\n",
       "      <td>20.56</td>\n",
       "      <td>109.1</td>\n",
       "      <td>19.75</td>\n",
       "      <td>63.32</td>\n",
       "      <td>195.9</td>\n",
       "      <td>78.9</td>\n",
       "      <td>f</td>\n",
       "      <td>B_Ball</td>\n",
       "    </tr>\n",
       "    <tr>\n",
       "      <th>1</th>\n",
       "      <td>4.41</td>\n",
       "      <td>8.3</td>\n",
       "      <td>38.2</td>\n",
       "      <td>12.7</td>\n",
       "      <td>68</td>\n",
       "      <td>20.67</td>\n",
       "      <td>102.8</td>\n",
       "      <td>21.30</td>\n",
       "      <td>58.55</td>\n",
       "      <td>189.7</td>\n",
       "      <td>74.4</td>\n",
       "      <td>f</td>\n",
       "      <td>B_Ball</td>\n",
       "    </tr>\n",
       "    <tr>\n",
       "      <th>2</th>\n",
       "      <td>4.14</td>\n",
       "      <td>5.0</td>\n",
       "      <td>36.4</td>\n",
       "      <td>11.6</td>\n",
       "      <td>21</td>\n",
       "      <td>21.86</td>\n",
       "      <td>104.6</td>\n",
       "      <td>19.88</td>\n",
       "      <td>55.36</td>\n",
       "      <td>177.8</td>\n",
       "      <td>69.1</td>\n",
       "      <td>f</td>\n",
       "      <td>B_Ball</td>\n",
       "    </tr>\n",
       "    <tr>\n",
       "      <th>3</th>\n",
       "      <td>4.11</td>\n",
       "      <td>5.3</td>\n",
       "      <td>37.3</td>\n",
       "      <td>12.6</td>\n",
       "      <td>69</td>\n",
       "      <td>21.88</td>\n",
       "      <td>126.4</td>\n",
       "      <td>23.66</td>\n",
       "      <td>57.18</td>\n",
       "      <td>185.0</td>\n",
       "      <td>74.9</td>\n",
       "      <td>f</td>\n",
       "      <td>B_Ball</td>\n",
       "    </tr>\n",
       "    <tr>\n",
       "      <th>4</th>\n",
       "      <td>4.45</td>\n",
       "      <td>6.8</td>\n",
       "      <td>41.5</td>\n",
       "      <td>14.0</td>\n",
       "      <td>29</td>\n",
       "      <td>18.96</td>\n",
       "      <td>80.3</td>\n",
       "      <td>17.64</td>\n",
       "      <td>53.20</td>\n",
       "      <td>184.6</td>\n",
       "      <td>64.6</td>\n",
       "      <td>f</td>\n",
       "      <td>B_Ball</td>\n",
       "    </tr>\n",
       "    <tr>\n",
       "      <th>5</th>\n",
       "      <td>4.10</td>\n",
       "      <td>4.4</td>\n",
       "      <td>37.4</td>\n",
       "      <td>12.5</td>\n",
       "      <td>42</td>\n",
       "      <td>21.04</td>\n",
       "      <td>75.2</td>\n",
       "      <td>15.58</td>\n",
       "      <td>53.77</td>\n",
       "      <td>174.0</td>\n",
       "      <td>63.7</td>\n",
       "      <td>f</td>\n",
       "      <td>B_Ball</td>\n",
       "    </tr>\n",
       "    <tr>\n",
       "      <th>6</th>\n",
       "      <td>4.31</td>\n",
       "      <td>5.3</td>\n",
       "      <td>39.6</td>\n",
       "      <td>12.8</td>\n",
       "      <td>73</td>\n",
       "      <td>21.69</td>\n",
       "      <td>87.2</td>\n",
       "      <td>19.99</td>\n",
       "      <td>60.17</td>\n",
       "      <td>186.2</td>\n",
       "      <td>75.2</td>\n",
       "      <td>f</td>\n",
       "      <td>B_Ball</td>\n",
       "    </tr>\n",
       "    <tr>\n",
       "      <th>7</th>\n",
       "      <td>4.42</td>\n",
       "      <td>5.7</td>\n",
       "      <td>39.9</td>\n",
       "      <td>13.2</td>\n",
       "      <td>44</td>\n",
       "      <td>20.62</td>\n",
       "      <td>97.9</td>\n",
       "      <td>22.43</td>\n",
       "      <td>48.33</td>\n",
       "      <td>173.8</td>\n",
       "      <td>62.3</td>\n",
       "      <td>f</td>\n",
       "      <td>B_Ball</td>\n",
       "    </tr>\n",
       "    <tr>\n",
       "      <th>8</th>\n",
       "      <td>4.30</td>\n",
       "      <td>8.9</td>\n",
       "      <td>41.1</td>\n",
       "      <td>13.5</td>\n",
       "      <td>41</td>\n",
       "      <td>22.64</td>\n",
       "      <td>75.1</td>\n",
       "      <td>17.95</td>\n",
       "      <td>54.57</td>\n",
       "      <td>171.4</td>\n",
       "      <td>66.5</td>\n",
       "      <td>f</td>\n",
       "      <td>B_Ball</td>\n",
       "    </tr>\n",
       "    <tr>\n",
       "      <th>9</th>\n",
       "      <td>4.51</td>\n",
       "      <td>4.4</td>\n",
       "      <td>41.6</td>\n",
       "      <td>12.7</td>\n",
       "      <td>44</td>\n",
       "      <td>19.44</td>\n",
       "      <td>65.1</td>\n",
       "      <td>15.07</td>\n",
       "      <td>53.42</td>\n",
       "      <td>179.9</td>\n",
       "      <td>62.9</td>\n",
       "      <td>f</td>\n",
       "      <td>B_Ball</td>\n",
       "    </tr>\n",
       "  </tbody>\n",
       "</table>\n",
       "</div>\n",
       "      <button class=\"colab-df-convert\" onclick=\"convertToInteractive('df-16fa2eba-6048-4211-ad2c-270b0fe040d3')\"\n",
       "              title=\"Convert this dataframe to an interactive table.\"\n",
       "              style=\"display:none;\">\n",
       "        \n",
       "  <svg xmlns=\"http://www.w3.org/2000/svg\" height=\"24px\"viewBox=\"0 0 24 24\"\n",
       "       width=\"24px\">\n",
       "    <path d=\"M0 0h24v24H0V0z\" fill=\"none\"/>\n",
       "    <path d=\"M18.56 5.44l.94 2.06.94-2.06 2.06-.94-2.06-.94-.94-2.06-.94 2.06-2.06.94zm-11 1L8.5 8.5l.94-2.06 2.06-.94-2.06-.94L8.5 2.5l-.94 2.06-2.06.94zm10 10l.94 2.06.94-2.06 2.06-.94-2.06-.94-.94-2.06-.94 2.06-2.06.94z\"/><path d=\"M17.41 7.96l-1.37-1.37c-.4-.4-.92-.59-1.43-.59-.52 0-1.04.2-1.43.59L10.3 9.45l-7.72 7.72c-.78.78-.78 2.05 0 2.83L4 21.41c.39.39.9.59 1.41.59.51 0 1.02-.2 1.41-.59l7.78-7.78 2.81-2.81c.8-.78.8-2.07 0-2.86zM5.41 20L4 18.59l7.72-7.72 1.47 1.35L5.41 20z\"/>\n",
       "  </svg>\n",
       "      </button>\n",
       "      \n",
       "  <style>\n",
       "    .colab-df-container {\n",
       "      display:flex;\n",
       "      flex-wrap:wrap;\n",
       "      gap: 12px;\n",
       "    }\n",
       "\n",
       "    .colab-df-convert {\n",
       "      background-color: #E8F0FE;\n",
       "      border: none;\n",
       "      border-radius: 50%;\n",
       "      cursor: pointer;\n",
       "      display: none;\n",
       "      fill: #1967D2;\n",
       "      height: 32px;\n",
       "      padding: 0 0 0 0;\n",
       "      width: 32px;\n",
       "    }\n",
       "\n",
       "    .colab-df-convert:hover {\n",
       "      background-color: #E2EBFA;\n",
       "      box-shadow: 0px 1px 2px rgba(60, 64, 67, 0.3), 0px 1px 3px 1px rgba(60, 64, 67, 0.15);\n",
       "      fill: #174EA6;\n",
       "    }\n",
       "\n",
       "    [theme=dark] .colab-df-convert {\n",
       "      background-color: #3B4455;\n",
       "      fill: #D2E3FC;\n",
       "    }\n",
       "\n",
       "    [theme=dark] .colab-df-convert:hover {\n",
       "      background-color: #434B5C;\n",
       "      box-shadow: 0px 1px 3px 1px rgba(0, 0, 0, 0.15);\n",
       "      filter: drop-shadow(0px 1px 2px rgba(0, 0, 0, 0.3));\n",
       "      fill: #FFFFFF;\n",
       "    }\n",
       "  </style>\n",
       "\n",
       "      <script>\n",
       "        const buttonEl =\n",
       "          document.querySelector('#df-16fa2eba-6048-4211-ad2c-270b0fe040d3 button.colab-df-convert');\n",
       "        buttonEl.style.display =\n",
       "          google.colab.kernel.accessAllowed ? 'block' : 'none';\n",
       "\n",
       "        async function convertToInteractive(key) {\n",
       "          const element = document.querySelector('#df-16fa2eba-6048-4211-ad2c-270b0fe040d3');\n",
       "          const dataTable =\n",
       "            await google.colab.kernel.invokeFunction('convertToInteractive',\n",
       "                                                     [key], {});\n",
       "          if (!dataTable) return;\n",
       "\n",
       "          const docLinkHtml = 'Like what you see? Visit the ' +\n",
       "            '<a target=\"_blank\" href=https://colab.research.google.com/notebooks/data_table.ipynb>data table notebook</a>'\n",
       "            + ' to learn more about interactive tables.';\n",
       "          element.innerHTML = '';\n",
       "          dataTable['output_type'] = 'display_data';\n",
       "          await google.colab.output.renderOutput(dataTable, element);\n",
       "          const docLink = document.createElement('div');\n",
       "          docLink.innerHTML = docLinkHtml;\n",
       "          element.appendChild(docLink);\n",
       "        }\n",
       "      </script>\n",
       "    </div>\n",
       "  </div>\n",
       "  "
      ],
      "text/plain": [
       "    rcc  wcc    hc    hg  ferr    bmi    ssf  pcBfat    lbm     ht    wt sex  \\\n",
       "0  3.96  7.5  37.5  12.3    60  20.56  109.1   19.75  63.32  195.9  78.9   f   \n",
       "1  4.41  8.3  38.2  12.7    68  20.67  102.8   21.30  58.55  189.7  74.4   f   \n",
       "2  4.14  5.0  36.4  11.6    21  21.86  104.6   19.88  55.36  177.8  69.1   f   \n",
       "3  4.11  5.3  37.3  12.6    69  21.88  126.4   23.66  57.18  185.0  74.9   f   \n",
       "4  4.45  6.8  41.5  14.0    29  18.96   80.3   17.64  53.20  184.6  64.6   f   \n",
       "5  4.10  4.4  37.4  12.5    42  21.04   75.2   15.58  53.77  174.0  63.7   f   \n",
       "6  4.31  5.3  39.6  12.8    73  21.69   87.2   19.99  60.17  186.2  75.2   f   \n",
       "7  4.42  5.7  39.9  13.2    44  20.62   97.9   22.43  48.33  173.8  62.3   f   \n",
       "8  4.30  8.9  41.1  13.5    41  22.64   75.1   17.95  54.57  171.4  66.5   f   \n",
       "9  4.51  4.4  41.6  12.7    44  19.44   65.1   15.07  53.42  179.9  62.9   f   \n",
       "\n",
       "    sport  \n",
       "0  B_Ball  \n",
       "1  B_Ball  \n",
       "2  B_Ball  \n",
       "3  B_Ball  \n",
       "4  B_Ball  \n",
       "5  B_Ball  \n",
       "6  B_Ball  \n",
       "7  B_Ball  \n",
       "8  B_Ball  \n",
       "9  B_Ball  "
      ]
     },
     "execution_count": 3,
     "metadata": {},
     "output_type": "execute_result"
    }
   ],
   "source": [
    "df.head(10)"
   ]
  },
  {
   "cell_type": "markdown",
   "metadata": {
    "id": "VZkN6tJC_XrL"
   },
   "source": [
    "Here we are going to take look at the names of the columns.<br>\n",
    "\n",
    "We can use the `columns()` method to see the list that contains names of the columns.<br>\n"
   ]
  },
  {
   "cell_type": "code",
   "execution_count": null,
   "metadata": {
    "colab": {
     "base_uri": "https://localhost:8080/"
    },
    "executionInfo": {
     "elapsed": 46,
     "status": "ok",
     "timestamp": 1673986361690,
     "user": {
      "displayName": "sasidhar Sai",
      "userId": "03910604699370000651"
     },
     "user_tz": -330
    },
    "id": "BhLJ6B3x_XJX",
    "outputId": "85b173fd-68bf-4fa1-be6e-92cf5dcbc973"
   },
   "outputs": [
    {
     "data": {
      "text/plain": [
       "Index(['rcc', 'wcc', 'hc', 'hg', 'ferr', 'bmi', 'ssf', 'pcBfat', 'lbm', 'ht',\n",
       "       'wt', 'sex', 'sport'],\n",
       "      dtype='object')"
      ]
     },
     "execution_count": 4,
     "metadata": {},
     "output_type": "execute_result"
    }
   ],
   "source": [
    "df.columns"
   ]
  },
  {
   "cell_type": "markdown",
   "metadata": {
    "id": "RCh3uMmu_txX"
   },
   "source": [
    "Let's take small look at the datatype of the values of each colum.<br>\n",
    "\n",
    "We can do it by using the `info()` method of the dataframe."
   ]
  },
  {
   "cell_type": "code",
   "execution_count": null,
   "metadata": {
    "colab": {
     "base_uri": "https://localhost:8080/"
    },
    "executionInfo": {
     "elapsed": 39,
     "status": "ok",
     "timestamp": 1673986361691,
     "user": {
      "displayName": "sasidhar Sai",
      "userId": "03910604699370000651"
     },
     "user_tz": -330
    },
    "id": "xunvSXh6_tHy",
    "outputId": "229ebe6f-2afe-4566-c5be-cc37bf40d444"
   },
   "outputs": [
    {
     "name": "stdout",
     "output_type": "stream",
     "text": [
      "<class 'pandas.core.frame.DataFrame'>\n",
      "RangeIndex: 202 entries, 0 to 201\n",
      "Data columns (total 13 columns):\n",
      " #   Column  Non-Null Count  Dtype  \n",
      "---  ------  --------------  -----  \n",
      " 0   rcc     202 non-null    float64\n",
      " 1   wcc     202 non-null    float64\n",
      " 2   hc      202 non-null    float64\n",
      " 3   hg      202 non-null    float64\n",
      " 4   ferr    202 non-null    int64  \n",
      " 5   bmi     202 non-null    float64\n",
      " 6   ssf     202 non-null    float64\n",
      " 7   pcBfat  202 non-null    float64\n",
      " 8   lbm     202 non-null    float64\n",
      " 9   ht      202 non-null    float64\n",
      " 10  wt      202 non-null    float64\n",
      " 11  sex     202 non-null    object \n",
      " 12  sport   202 non-null    object \n",
      "dtypes: float64(10), int64(1), object(2)\n",
      "memory usage: 20.6+ KB\n"
     ]
    }
   ],
   "source": [
    "df.info()"
   ]
  },
  {
   "cell_type": "markdown",
   "metadata": {
    "id": "T7KPjR4cAFIP"
   },
   "source": [
    "As you can see, there are one column with integer values, two columns with objects values, and ten more columns with float type values. "
   ]
  },
  {
   "cell_type": "markdown",
   "metadata": {
    "id": "KRtr-thgguVA"
   },
   "source": [
    "## <a id='toc1_4_'></a>[4. Perform Exploratory Analysis](#toc0_)"
   ]
  },
  {
   "cell_type": "markdown",
   "metadata": {
    "id": "tCRlYYrNB-Aw"
   },
   "source": [
    "## <a id='toc1_5_1_'></a>[Finding and handling null values.](#toc0_)"
   ]
  },
  {
   "cell_type": "markdown",
   "metadata": {
    "id": "HhEJu1ovCcNZ"
   },
   "source": [
    "You can check for the null values by method called as `isna()`.\n",
    "\n",
    "You can read more about on <a href=\"https://pythontic.com/pandas/dataframe-manipulations/duplicates-and-missing-values#:~:text=The%20drop_duplicates()%20method%20removes,with%20the%20parameter%20%22keep%22.\"> This link</a>.<br>\n",
    "\n",
    "Hint:- also use the `sum()` method to get the numbers of null values.<br>"
   ]
  },
  {
   "cell_type": "code",
   "execution_count": null,
   "metadata": {
    "colab": {
     "base_uri": "https://localhost:8080/"
    },
    "executionInfo": {
     "elapsed": 34,
     "status": "ok",
     "timestamp": 1673986361691,
     "user": {
      "displayName": "sasidhar Sai",
      "userId": "03910604699370000651"
     },
     "user_tz": -330
    },
    "id": "L30r4Mm3B9cl",
    "outputId": "711ea96a-ef41-447b-f900-908d00520dd6"
   },
   "outputs": [
    {
     "data": {
      "text/plain": [
       "rcc       0\n",
       "wcc       0\n",
       "hc        0\n",
       "hg        0\n",
       "ferr      0\n",
       "bmi       0\n",
       "ssf       0\n",
       "pcBfat    0\n",
       "lbm       0\n",
       "ht        0\n",
       "wt        0\n",
       "sex       0\n",
       "sport     0\n",
       "dtype: int64"
      ]
     },
     "execution_count": 6,
     "metadata": {},
     "output_type": "execute_result"
    }
   ],
   "source": [
    "df.isna().sum()"
   ]
  },
  {
   "cell_type": "markdown",
   "metadata": {
    "id": "Zdpy8TeaDKAN"
   },
   "source": [
    "There is no null values in the dataset."
   ]
  },
  {
   "cell_type": "markdown",
   "metadata": {
    "id": "ExhwtUFuFB6I"
   },
   "source": [
    "## <a id='toc1_5_2_'></a>[Finding and handling duplicate values.](#toc0_)\n"
   ]
  },
  {
   "cell_type": "markdown",
   "metadata": {
    "id": "NGGU_q-TFQ_W"
   },
   "source": [
    "Here you can check you the duplicated values by using the `duplicated()` method from pandas dataframe.<br>\n",
    "\n",
    "You can read more about it in <a href=\"https://pandas.pydata.org/pandas-docs/stable/generated/pandas.DataFrame.duplicated.html\">This link</a>.<br>\n",
    "\n",
    "Hint:- also use the `sum()` method to get the numbers of null values.<br>"
   ]
  },
  {
   "cell_type": "code",
   "execution_count": null,
   "metadata": {
    "colab": {
     "base_uri": "https://localhost:8080/"
    },
    "executionInfo": {
     "elapsed": 30,
     "status": "ok",
     "timestamp": 1673986361692,
     "user": {
      "displayName": "sasidhar Sai",
      "userId": "03910604699370000651"
     },
     "user_tz": -330
    },
    "id": "FSOy1qAXFBUW",
    "outputId": "fcaa98f6-adfb-4a82-ca1c-68318030a0ba"
   },
   "outputs": [
    {
     "data": {
      "text/plain": [
       "0"
      ]
     },
     "execution_count": 7,
     "metadata": {},
     "output_type": "execute_result"
    }
   ],
   "source": [
    "df.duplicated().sum()"
   ]
  },
  {
   "cell_type": "markdown",
   "metadata": {
    "id": "-P3SgRaRGuzU"
   },
   "source": [
    "Here you can see the Numbers of the duplicate rows which are present in the dataset."
   ]
  },
  {
   "cell_type": "markdown",
   "metadata": {
    "id": "JnffTZLIF6Wd"
   },
   "source": [
    "## <a id='toc1_5_3_'></a>[Dropping the Duplicated Values.](#toc0_)\n"
   ]
  },
  {
   "cell_type": "markdown",
   "metadata": {
    "id": "egl0rWlZGSxp"
   },
   "source": [
    "Here for dropping the Duplicate values by using the `drop_duplicated()` method.<br>\n",
    "\n",
    "You can read more about it on <a href=\"https://pandas.pydata.org/docs/reference/api/pandas.DataFrame.drop_duplicates.html\">This link.</a>"
   ]
  },
  {
   "cell_type": "code",
   "execution_count": null,
   "metadata": {
    "id": "-rCFBfBCGmPS"
   },
   "outputs": [],
   "source": [
    "df.drop_duplicates(inplace=True) #dropping the duplicated values"
   ]
  },
  {
   "cell_type": "markdown",
   "metadata": {
    "id": "h4XqFMyOHdjv"
   },
   "source": [
    "## <a id='toc1_5_4_'></a>[The number of unique values for each column.](#toc0_)\n",
    "Here we are checking the null values for each columns <br>\n",
    "\n",
    "Here we are using `nunique()` method to get the numbers od unique values in columns <br>\n",
    "\n",
    "You can read more about `nunique()` on <a href = \"https://pandas.pydata.org/docs/reference/api/pandas.DataFrame.nunique.html\">this link  </a>"
   ]
  },
  {
   "cell_type": "code",
   "execution_count": null,
   "metadata": {
    "colab": {
     "base_uri": "https://localhost:8080/"
    },
    "executionInfo": {
     "elapsed": 25,
     "status": "ok",
     "timestamp": 1673986361693,
     "user": {
      "displayName": "sasidhar Sai",
      "userId": "03910604699370000651"
     },
     "user_tz": -330
    },
    "id": "g4cROYlCHw61",
    "outputId": "d2c73c22-0d64-4e86-b35a-25b6709d82ea"
   },
   "outputs": [
    {
     "name": "stdout",
     "output_type": "stream",
     "text": [
      "rcc 114\n",
      "wcc 70\n",
      "hc 105\n",
      "hg 55\n",
      "ferr 111\n",
      "bmi 180\n",
      "ssf 176\n",
      "pcBfat 180\n",
      "lbm 135\n",
      "ht 147\n",
      "wt 161\n",
      "sex 2\n",
      "sport 10\n"
     ]
    }
   ],
   "source": [
    "for i in df.columns:\n",
    "    print(i,df[i].nunique())"
   ]
  },
  {
   "cell_type": "markdown",
   "metadata": {
    "id": "Z6LGr5OzKuop"
   },
   "source": [
    "Here, we are going to see the unique values of sport column"
   ]
  },
  {
   "cell_type": "code",
   "execution_count": null,
   "metadata": {
    "colab": {
     "base_uri": "https://localhost:8080/"
    },
    "executionInfo": {
     "elapsed": 21,
     "status": "ok",
     "timestamp": 1673986361693,
     "user": {
      "displayName": "sasidhar Sai",
      "userId": "03910604699370000651"
     },
     "user_tz": -330
    },
    "id": "ZxfDRCupKo8D",
    "outputId": "7e691a5a-f7ab-4300-e89a-7cf7d47ccc0b"
   },
   "outputs": [
    {
     "data": {
      "text/plain": [
       "array(['B_Ball', 'Row', 'Netball', 'Swim', 'Field', 'T_400m', 'T_Sprnt',\n",
       "       'Tennis', 'Gym', 'W_Polo'], dtype=object)"
      ]
     },
     "execution_count": 10,
     "metadata": {},
     "output_type": "execute_result"
    }
   ],
   "source": [
    "df['sport'].unique()"
   ]
  },
  {
   "cell_type": "markdown",
   "metadata": {
    "id": "OmJE4oj0kKxW"
   },
   "source": [
    "### <a id='toc1_5_4_'></a>[Finding the Correlations between the columns](#toc0_)\n",
    "In statistics, correlation or dependence is used to describe any statistical relationship, whether causal or not, between two random variables or bivariate data.<br>\n",
    "It is used to know that like which columns are related with each other. <br>\n",
    "\n",
    "You can read more about it on <a href=\"https://en.wikipedia.org/wiki/Correlation\">This link</a>."
   ]
  },
  {
   "cell_type": "code",
   "execution_count": null,
   "metadata": {
    "colab": {
     "base_uri": "https://localhost:8080/",
     "height": 394
    },
    "executionInfo": {
     "elapsed": 755,
     "status": "ok",
     "timestamp": 1673986362431,
     "user": {
      "displayName": "sasidhar Sai",
      "userId": "03910604699370000651"
     },
     "user_tz": -330
    },
    "id": "DyZxP0l0kR6s",
    "outputId": "7796f747-b837-4292-8634-79497dcbfece"
   },
   "outputs": [
    {
     "data": {
      "text/html": [
       "\n",
       "  <div id=\"df-46753e79-297e-429e-9398-f0590e4a1a7a\">\n",
       "    <div class=\"colab-df-container\">\n",
       "      <div>\n",
       "<style scoped>\n",
       "    .dataframe tbody tr th:only-of-type {\n",
       "        vertical-align: middle;\n",
       "    }\n",
       "\n",
       "    .dataframe tbody tr th {\n",
       "        vertical-align: top;\n",
       "    }\n",
       "\n",
       "    .dataframe thead th {\n",
       "        text-align: right;\n",
       "    }\n",
       "</style>\n",
       "<table border=\"1\" class=\"dataframe\">\n",
       "  <thead>\n",
       "    <tr style=\"text-align: right;\">\n",
       "      <th></th>\n",
       "      <th>rcc</th>\n",
       "      <th>wcc</th>\n",
       "      <th>hc</th>\n",
       "      <th>hg</th>\n",
       "      <th>ferr</th>\n",
       "      <th>bmi</th>\n",
       "      <th>ssf</th>\n",
       "      <th>pcBfat</th>\n",
       "      <th>lbm</th>\n",
       "      <th>ht</th>\n",
       "      <th>wt</th>\n",
       "    </tr>\n",
       "  </thead>\n",
       "  <tbody>\n",
       "    <tr>\n",
       "      <th>rcc</th>\n",
       "      <td>1.000000</td>\n",
       "      <td>0.147064</td>\n",
       "      <td>0.924964</td>\n",
       "      <td>0.888800</td>\n",
       "      <td>0.250865</td>\n",
       "      <td>0.299471</td>\n",
       "      <td>-0.403004</td>\n",
       "      <td>-0.493512</td>\n",
       "      <td>0.550975</td>\n",
       "      <td>0.358854</td>\n",
       "      <td>0.403763</td>\n",
       "    </tr>\n",
       "    <tr>\n",
       "      <th>wcc</th>\n",
       "      <td>0.147064</td>\n",
       "      <td>1.000000</td>\n",
       "      <td>0.153333</td>\n",
       "      <td>0.134720</td>\n",
       "      <td>0.132073</td>\n",
       "      <td>0.176968</td>\n",
       "      <td>0.136999</td>\n",
       "      <td>0.107960</td>\n",
       "      <td>0.102663</td>\n",
       "      <td>0.076811</td>\n",
       "      <td>0.155662</td>\n",
       "    </tr>\n",
       "    <tr>\n",
       "      <th>hc</th>\n",
       "      <td>0.924964</td>\n",
       "      <td>0.153333</td>\n",
       "      <td>1.000000</td>\n",
       "      <td>0.950757</td>\n",
       "      <td>0.258240</td>\n",
       "      <td>0.320527</td>\n",
       "      <td>-0.449135</td>\n",
       "      <td>-0.532449</td>\n",
       "      <td>0.583375</td>\n",
       "      <td>0.371192</td>\n",
       "      <td>0.423711</td>\n",
       "    </tr>\n",
       "    <tr>\n",
       "      <th>hg</th>\n",
       "      <td>0.888800</td>\n",
       "      <td>0.134720</td>\n",
       "      <td>0.950757</td>\n",
       "      <td>1.000000</td>\n",
       "      <td>0.308391</td>\n",
       "      <td>0.382524</td>\n",
       "      <td>-0.435429</td>\n",
       "      <td>-0.531522</td>\n",
       "      <td>0.610986</td>\n",
       "      <td>0.352322</td>\n",
       "      <td>0.455263</td>\n",
       "    </tr>\n",
       "    <tr>\n",
       "      <th>ferr</th>\n",
       "      <td>0.250865</td>\n",
       "      <td>0.132073</td>\n",
       "      <td>0.258240</td>\n",
       "      <td>0.308391</td>\n",
       "      <td>1.000000</td>\n",
       "      <td>0.302556</td>\n",
       "      <td>-0.108243</td>\n",
       "      <td>-0.183386</td>\n",
       "      <td>0.317581</td>\n",
       "      <td>0.123255</td>\n",
       "      <td>0.273702</td>\n",
       "    </tr>\n",
       "    <tr>\n",
       "      <th>bmi</th>\n",
       "      <td>0.299471</td>\n",
       "      <td>0.176968</td>\n",
       "      <td>0.320527</td>\n",
       "      <td>0.382524</td>\n",
       "      <td>0.302556</td>\n",
       "      <td>1.000000</td>\n",
       "      <td>0.321116</td>\n",
       "      <td>0.187558</td>\n",
       "      <td>0.713858</td>\n",
       "      <td>0.337097</td>\n",
       "      <td>0.845934</td>\n",
       "    </tr>\n",
       "    <tr>\n",
       "      <th>ssf</th>\n",
       "      <td>-0.403004</td>\n",
       "      <td>0.136999</td>\n",
       "      <td>-0.449135</td>\n",
       "      <td>-0.435429</td>\n",
       "      <td>-0.108243</td>\n",
       "      <td>0.321116</td>\n",
       "      <td>1.000000</td>\n",
       "      <td>0.963017</td>\n",
       "      <td>-0.207749</td>\n",
       "      <td>-0.071253</td>\n",
       "      <td>0.154196</td>\n",
       "    </tr>\n",
       "    <tr>\n",
       "      <th>pcBfat</th>\n",
       "      <td>-0.493512</td>\n",
       "      <td>0.107960</td>\n",
       "      <td>-0.532449</td>\n",
       "      <td>-0.531522</td>\n",
       "      <td>-0.183386</td>\n",
       "      <td>0.187558</td>\n",
       "      <td>0.963017</td>\n",
       "      <td>1.000000</td>\n",
       "      <td>-0.361850</td>\n",
       "      <td>-0.188022</td>\n",
       "      <td>-0.000193</td>\n",
       "    </tr>\n",
       "    <tr>\n",
       "      <th>lbm</th>\n",
       "      <td>0.550975</td>\n",
       "      <td>0.102663</td>\n",
       "      <td>0.583375</td>\n",
       "      <td>0.610986</td>\n",
       "      <td>0.317581</td>\n",
       "      <td>0.713858</td>\n",
       "      <td>-0.207749</td>\n",
       "      <td>-0.361850</td>\n",
       "      <td>1.000000</td>\n",
       "      <td>0.802119</td>\n",
       "      <td>0.930913</td>\n",
       "    </tr>\n",
       "    <tr>\n",
       "      <th>ht</th>\n",
       "      <td>0.358854</td>\n",
       "      <td>0.076811</td>\n",
       "      <td>0.371192</td>\n",
       "      <td>0.352322</td>\n",
       "      <td>0.123255</td>\n",
       "      <td>0.337097</td>\n",
       "      <td>-0.071253</td>\n",
       "      <td>-0.188022</td>\n",
       "      <td>0.802119</td>\n",
       "      <td>1.000000</td>\n",
       "      <td>0.780932</td>\n",
       "    </tr>\n",
       "    <tr>\n",
       "      <th>wt</th>\n",
       "      <td>0.403763</td>\n",
       "      <td>0.155662</td>\n",
       "      <td>0.423711</td>\n",
       "      <td>0.455263</td>\n",
       "      <td>0.273702</td>\n",
       "      <td>0.845934</td>\n",
       "      <td>0.154196</td>\n",
       "      <td>-0.000193</td>\n",
       "      <td>0.930913</td>\n",
       "      <td>0.780932</td>\n",
       "      <td>1.000000</td>\n",
       "    </tr>\n",
       "  </tbody>\n",
       "</table>\n",
       "</div>\n",
       "      <button class=\"colab-df-convert\" onclick=\"convertToInteractive('df-46753e79-297e-429e-9398-f0590e4a1a7a')\"\n",
       "              title=\"Convert this dataframe to an interactive table.\"\n",
       "              style=\"display:none;\">\n",
       "        \n",
       "  <svg xmlns=\"http://www.w3.org/2000/svg\" height=\"24px\"viewBox=\"0 0 24 24\"\n",
       "       width=\"24px\">\n",
       "    <path d=\"M0 0h24v24H0V0z\" fill=\"none\"/>\n",
       "    <path d=\"M18.56 5.44l.94 2.06.94-2.06 2.06-.94-2.06-.94-.94-2.06-.94 2.06-2.06.94zm-11 1L8.5 8.5l.94-2.06 2.06-.94-2.06-.94L8.5 2.5l-.94 2.06-2.06.94zm10 10l.94 2.06.94-2.06 2.06-.94-2.06-.94-.94-2.06-.94 2.06-2.06.94z\"/><path d=\"M17.41 7.96l-1.37-1.37c-.4-.4-.92-.59-1.43-.59-.52 0-1.04.2-1.43.59L10.3 9.45l-7.72 7.72c-.78.78-.78 2.05 0 2.83L4 21.41c.39.39.9.59 1.41.59.51 0 1.02-.2 1.41-.59l7.78-7.78 2.81-2.81c.8-.78.8-2.07 0-2.86zM5.41 20L4 18.59l7.72-7.72 1.47 1.35L5.41 20z\"/>\n",
       "  </svg>\n",
       "      </button>\n",
       "      \n",
       "  <style>\n",
       "    .colab-df-container {\n",
       "      display:flex;\n",
       "      flex-wrap:wrap;\n",
       "      gap: 12px;\n",
       "    }\n",
       "\n",
       "    .colab-df-convert {\n",
       "      background-color: #E8F0FE;\n",
       "      border: none;\n",
       "      border-radius: 50%;\n",
       "      cursor: pointer;\n",
       "      display: none;\n",
       "      fill: #1967D2;\n",
       "      height: 32px;\n",
       "      padding: 0 0 0 0;\n",
       "      width: 32px;\n",
       "    }\n",
       "\n",
       "    .colab-df-convert:hover {\n",
       "      background-color: #E2EBFA;\n",
       "      box-shadow: 0px 1px 2px rgba(60, 64, 67, 0.3), 0px 1px 3px 1px rgba(60, 64, 67, 0.15);\n",
       "      fill: #174EA6;\n",
       "    }\n",
       "\n",
       "    [theme=dark] .colab-df-convert {\n",
       "      background-color: #3B4455;\n",
       "      fill: #D2E3FC;\n",
       "    }\n",
       "\n",
       "    [theme=dark] .colab-df-convert:hover {\n",
       "      background-color: #434B5C;\n",
       "      box-shadow: 0px 1px 3px 1px rgba(0, 0, 0, 0.15);\n",
       "      filter: drop-shadow(0px 1px 2px rgba(0, 0, 0, 0.3));\n",
       "      fill: #FFFFFF;\n",
       "    }\n",
       "  </style>\n",
       "\n",
       "      <script>\n",
       "        const buttonEl =\n",
       "          document.querySelector('#df-46753e79-297e-429e-9398-f0590e4a1a7a button.colab-df-convert');\n",
       "        buttonEl.style.display =\n",
       "          google.colab.kernel.accessAllowed ? 'block' : 'none';\n",
       "\n",
       "        async function convertToInteractive(key) {\n",
       "          const element = document.querySelector('#df-46753e79-297e-429e-9398-f0590e4a1a7a');\n",
       "          const dataTable =\n",
       "            await google.colab.kernel.invokeFunction('convertToInteractive',\n",
       "                                                     [key], {});\n",
       "          if (!dataTable) return;\n",
       "\n",
       "          const docLinkHtml = 'Like what you see? Visit the ' +\n",
       "            '<a target=\"_blank\" href=https://colab.research.google.com/notebooks/data_table.ipynb>data table notebook</a>'\n",
       "            + ' to learn more about interactive tables.';\n",
       "          element.innerHTML = '';\n",
       "          dataTable['output_type'] = 'display_data';\n",
       "          await google.colab.output.renderOutput(dataTable, element);\n",
       "          const docLink = document.createElement('div');\n",
       "          docLink.innerHTML = docLinkHtml;\n",
       "          element.appendChild(docLink);\n",
       "        }\n",
       "      </script>\n",
       "    </div>\n",
       "  </div>\n",
       "  "
      ],
      "text/plain": [
       "             rcc       wcc        hc        hg      ferr       bmi       ssf  \\\n",
       "rcc     1.000000  0.147064  0.924964  0.888800  0.250865  0.299471 -0.403004   \n",
       "wcc     0.147064  1.000000  0.153333  0.134720  0.132073  0.176968  0.136999   \n",
       "hc      0.924964  0.153333  1.000000  0.950757  0.258240  0.320527 -0.449135   \n",
       "hg      0.888800  0.134720  0.950757  1.000000  0.308391  0.382524 -0.435429   \n",
       "ferr    0.250865  0.132073  0.258240  0.308391  1.000000  0.302556 -0.108243   \n",
       "bmi     0.299471  0.176968  0.320527  0.382524  0.302556  1.000000  0.321116   \n",
       "ssf    -0.403004  0.136999 -0.449135 -0.435429 -0.108243  0.321116  1.000000   \n",
       "pcBfat -0.493512  0.107960 -0.532449 -0.531522 -0.183386  0.187558  0.963017   \n",
       "lbm     0.550975  0.102663  0.583375  0.610986  0.317581  0.713858 -0.207749   \n",
       "ht      0.358854  0.076811  0.371192  0.352322  0.123255  0.337097 -0.071253   \n",
       "wt      0.403763  0.155662  0.423711  0.455263  0.273702  0.845934  0.154196   \n",
       "\n",
       "          pcBfat       lbm        ht        wt  \n",
       "rcc    -0.493512  0.550975  0.358854  0.403763  \n",
       "wcc     0.107960  0.102663  0.076811  0.155662  \n",
       "hc     -0.532449  0.583375  0.371192  0.423711  \n",
       "hg     -0.531522  0.610986  0.352322  0.455263  \n",
       "ferr   -0.183386  0.317581  0.123255  0.273702  \n",
       "bmi     0.187558  0.713858  0.337097  0.845934  \n",
       "ssf     0.963017 -0.207749 -0.071253  0.154196  \n",
       "pcBfat  1.000000 -0.361850 -0.188022 -0.000193  \n",
       "lbm    -0.361850  1.000000  0.802119  0.930913  \n",
       "ht     -0.188022  0.802119  1.000000  0.780932  \n",
       "wt     -0.000193  0.930913  0.780932  1.000000  "
      ]
     },
     "execution_count": 11,
     "metadata": {},
     "output_type": "execute_result"
    }
   ],
   "source": [
    "df.corr()"
   ]
  },
  {
   "cell_type": "markdown",
   "metadata": {
    "id": "QdbRkl-TBQ_e"
   },
   "source": [
    "##Measures of Skewness and Kurtosis\n",
    "\n",
    "**Skewness** is a measure of symmetry, or more precisely, the lack of symmetry. A distribution, or data set, is symmetric if it looks the same to the left and right of the center point.\n",
    "\n",
    "**Distribution on the basis of skewness value:**\n",
    "\n",
    "* Skewness = 0: Then normally distributed.\n",
    "* Skewness > 0: Then more weight in the left tail of the distribution.\n",
    "* Skewness < 0: Then more weight in the right tail of the distribution.\n",
    "\n",
    "**Kurtosis** is a metric that indicates how heavy-tailed or light-tailed the data are in comparison to a normal distribution. In other words, data sets with a high kurtosis tend to have large outliers or heavy tails. Data sets with low kurtosis usually less outliers and have light tails. The worst-case scenario would be a uniform distribution.\n",
    "\n",
    "**Distribution on the basis of Kurtosis value:**\n",
    "\n",
    "* kurtosis for normal distribution is equal to 3.\n",
    "* For a distribution having kurtosis < 3: It is called playkurtic.\n",
    "* For a distribution having kurtosis > 3, It is called leptokurtic and it signifies that it tries to produce more outliers rather than the normal distribution."
   ]
  },
  {
   "cell_type": "markdown",
   "metadata": {
    "id": "ouvXhhen2slo"
   },
   "source": [
    "## <a id='toc1_5_'></a>[5. Normal Distrbution](#toc0_)"
   ]
  },
  {
   "cell_type": "markdown",
   "metadata": {
    "id": "KpPi3WS8Edd4"
   },
   "source": [
    "The normal distribution is a symmetric probability focused on the mean. This \n",
    "means that data close to the mean occur more frequently than data far from it. The normal distribution is also referred to as the Gaussian distribution. The curve for this distribution looks like a bell.\n",
    "<br>\n",
    "* The mean, median and mode are exactly the same.\n",
    "* The distribution is symmetric about the mean—half the values fall below the mean and half above the mean.\n",
    "*The distribution can be described by two values: the mean and the standard deviation.\n",
    "\n",
    "\n",
    "You can read more about it in <a href=\"https://en.wikipedia.org/wiki/Normal_distribution\">This link</a>.<br>\n",
    "\n",
    "We are importing this stats library because it contains all of the statistics functions, which are located in the sub-package `scipy.stats()`"
   ]
  },
  {
   "cell_type": "code",
   "execution_count": null,
   "metadata": {
    "colab": {
     "base_uri": "https://localhost:8080/",
     "height": 571
    },
    "executionInfo": {
     "elapsed": 1556,
     "status": "ok",
     "timestamp": 1673988996602,
     "user": {
      "displayName": "sasidhar Sai",
      "userId": "03910604699370000651"
     },
     "user_tz": -330
    },
    "id": "MLwTrsNK3JUC",
    "outputId": "491e3a5d-bf54-4dab-e414-0b409db4b212"
   },
   "outputs": [
    {
     "name": "stderr",
     "output_type": "stream",
     "text": [
      "/usr/local/lib/python3.8/dist-packages/seaborn/distributions.py:2619: FutureWarning: `distplot` is a deprecated function and will be removed in a future version. Please adapt your code to use either `displot` (a figure-level function with similar flexibility) or `histplot` (an axes-level function for histograms).\n",
      "  warnings.warn(msg, FutureWarning)\n"
     ]
    },
    {
     "data": {
      "image/png": "[encoded data removed]",
      "text/plain": [
       "<Figure size 720x576 with 1 Axes>"
      ]
     },
     "metadata": {
      "needs_background": "light"
     },
     "output_type": "display_data"
    }
   ],
   "source": [
    "import scipy.stats as stats\n",
    "# plotting a histogram\n",
    "plt.figure(figsize=(10,8))\n",
    "ax = sns.distplot(df['bmi'],\n",
    "                  bins=50,\n",
    "                  kde=True,\n",
    "                  color='royalblue',\n",
    "                  hist_kws={\"linewidth\": 15,'alpha':1})\n",
    "plt.xlabel('Body Mass Index Count', fontsize=12)\n",
    "plt.ylabel('Frequency', fontsize=12)\n",
    "plt.title(\"Normal Distribution\")\n",
    "plt.show()"
   ]
  },
  {
   "cell_type": "markdown",
   "metadata": {
    "id": "SW4s7qxVtPQ4"
   },
   "source": [
    "The area under the normal distribution curve represents probability, and the\n",
    "total area under the curve sums to one.\n",
    "\n",
    "\n",
    "From this graph,\n",
    "* We can say the average body mass index for the athletes is 24.\n",
    "* We can also see that the body mass index is highly variable, ranging from 16 to 30 in most of the athletes.\n",
    "* There is also a small percentage of outliers after the 30, which is negligible because the frequency of the value is very low compared to others."
   ]
  },
  {
   "cell_type": "code",
   "execution_count": null,
   "metadata": {
    "colab": {
     "base_uri": "https://localhost:8080/"
    },
    "executionInfo": {
     "elapsed": 31,
     "status": "ok",
     "timestamp": 1673986362435,
     "user": {
      "displayName": "sasidhar Sai",
      "userId": "03910604699370000651"
     },
     "user_tz": -330
    },
    "id": "1kvROLJCCvaU",
    "outputId": "b6ba20e7-ed93-4697-e6f3-f13692435d94"
   },
   "outputs": [
    {
     "name": "stdout",
     "output_type": "stream",
     "text": [
      "Skewness of the graph: \n",
      "0.9465155132505845\n"
     ]
    }
   ],
   "source": [
    "# Calculate Skewness of the graphl\n",
    "from scipy.stats import skew\n",
    "print(\"Skewness of the graph: \")\n",
    "print(skew(df['bmi'], axis=0, bias=True))"
   ]
  },
  {
   "cell_type": "markdown",
   "metadata": {
    "id": "k6_ZSLgeIXH9"
   },
   "source": [
    "As we all know, the skewness of a normal distribution must be zero. but here the skewness is slightly more than zero, so it is left-tailed."
   ]
  },
  {
   "cell_type": "code",
   "execution_count": null,
   "metadata": {
    "colab": {
     "base_uri": "https://localhost:8080/"
    },
    "executionInfo": {
     "elapsed": 27,
     "status": "ok",
     "timestamp": 1673986362436,
     "user": {
      "displayName": "sasidhar Sai",
      "userId": "03910604699370000651"
     },
     "user_tz": -330
    },
    "id": "p-HHnXWbD_fZ",
    "outputId": "00db5a91-821e-40bc-a965-8e85dae7b583"
   },
   "outputs": [
    {
     "name": "stdout",
     "output_type": "stream",
     "text": [
      "Kurtosis of the graph: \n",
      "2.1834749739437314\n"
     ]
    }
   ],
   "source": [
    "# Calculate Kurtosis of the graph\n",
    "from scipy.stats import kurtosis\n",
    "print(\"Kurtosis of the graph: \")\n",
    "print(kurtosis(df['bmi'], axis=0, bias=True))"
   ]
  },
  {
   "cell_type": "markdown",
   "metadata": {
    "id": "RsGjIwoqJZFT"
   },
   "source": [
    "As we all know, the kurtosis of a normal distribution must be 3. but here the kurtosis is less than 3. so it is light-tailed and has fewer outliers.\n",
    "\n"
   ]
  },
  {
   "cell_type": "code",
   "execution_count": null,
   "metadata": {
    "colab": {
     "base_uri": "https://localhost:8080/",
     "height": 571
    },
    "executionInfo": {
     "elapsed": 884,
     "status": "ok",
     "timestamp": 1673988985606,
     "user": {
      "displayName": "sasidhar Sai",
      "userId": "03910604699370000651"
     },
     "user_tz": -330
    },
    "id": "IYIcG-rxrti4",
    "outputId": "4d384b65-9fdd-44a7-d574-cc23915a2134"
   },
   "outputs": [
    {
     "name": "stderr",
     "output_type": "stream",
     "text": [
      "/usr/local/lib/python3.8/dist-packages/seaborn/distributions.py:2619: FutureWarning: `distplot` is a deprecated function and will be removed in a future version. Please adapt your code to use either `displot` (a figure-level function with similar flexibility) or `histplot` (an axes-level function for histograms).\n",
      "  warnings.warn(msg, FutureWarning)\n"
     ]
    },
    {
     "data": {
      "image/png": "[encoded data removed]",
      "text/plain": [
       "<Figure size 720x576 with 1 Axes>"
      ]
     },
     "metadata": {
      "needs_background": "light"
     },
     "output_type": "display_data"
    }
   ],
   "source": [
    "plt.figure(figsize=(10,8))\n",
    "ax = sns.distplot(df['ssf'],\n",
    "                  bins=80,\n",
    "                  kde=True,\n",
    "                  color='royalblue',\n",
    "                  hist_kws={\"linewidth\": 10,'alpha':1})\n",
    "plt.xlabel('sum of skin folds', fontsize=12)\n",
    "plt.ylabel('Frequency', fontsize=12)\n",
    "plt.title(\"Normal Distribution\")\n",
    "plt.show()"
   ]
  },
  {
   "cell_type": "markdown",
   "metadata": {
    "id": "YjaRLuiouHET"
   },
   "source": [
    "According to this graph,\n",
    "* The average sum of skin folds is around 50.\n",
    "* Here we can see that the sum of skin folds is widely distributed between 0 and 200.\n",
    "* The majority of the athletes are in the range of 25 to 120 sum of skin.\n",
    "* We can also see that the outliers are present in the data after 150, which can be neglected due to their lower frequency than others.\n"
   ]
  },
  {
   "cell_type": "code",
   "execution_count": null,
   "metadata": {
    "colab": {
     "base_uri": "https://localhost:8080/"
    },
    "executionInfo": {
     "elapsed": 23,
     "status": "ok",
     "timestamp": 1673986362974,
     "user": {
      "displayName": "sasidhar Sai",
      "userId": "03910604699370000651"
     },
     "user_tz": -330
    },
    "id": "FncYHpEWH_fG",
    "outputId": "6f0a0a57-29eb-4fd4-87f9-e280d9f75d64"
   },
   "outputs": [
    {
     "name": "stdout",
     "output_type": "stream",
     "text": [
      "Skewness of the graph: \n",
      "1.174668451511767\n"
     ]
    }
   ],
   "source": [
    "# Calculate Skewness of the graph\n",
    "print(\"Skewness of the graph: \")\n",
    "print(skew(df['ssf'], axis=0, bias=True))"
   ]
  },
  {
   "cell_type": "markdown",
   "metadata": {
    "id": "msrq_IbWKIug"
   },
   "source": [
    "Skewness essentially gauges how big the two tails are in comparison. As we all know, the skewness of a normal distribution must be zero. but here the skewness is more than zero, so it is left-tailed."
   ]
  },
  {
   "cell_type": "code",
   "execution_count": null,
   "metadata": {
    "colab": {
     "base_uri": "https://localhost:8080/"
    },
    "executionInfo": {
     "elapsed": 19,
     "status": "ok",
     "timestamp": 1673986362975,
     "user": {
      "displayName": "sasidhar Sai",
      "userId": "03910604699370000651"
     },
     "user_tz": -330
    },
    "id": "7TLo0s_SIFoq",
    "outputId": "ff3a91b5-2f4e-4aaf-82ab-a13fb27e588e"
   },
   "outputs": [
    {
     "name": "stdout",
     "output_type": "stream",
     "text": [
      "Kurtosis of the graph: \n",
      "1.3651352231700065\n"
     ]
    }
   ],
   "source": [
    "# Calculate Kurtosis of the graph\n",
    "print(\"Kurtosis of the graph: \")\n",
    "print(kurtosis(df['ssf'], axis=0, bias=True))"
   ]
  },
  {
   "cell_type": "markdown",
   "metadata": {
    "id": "EMMshE1mKQsD"
   },
   "source": [
    "The two tails' combined sizes are measured via kurtosis. The probability in the tails is measured. As we all know, the kurtosis of a standard normal distribution is 3 but here the value of kurtosis is less than 3 which means, the graph is light-tailed and has fewer outliers."
   ]
  },
  {
   "cell_type": "markdown",
   "metadata": {
    "id": "Dnnd7XScBYm3"
   },
   "source": [
    "## <a id='toc1_6_'></a>[6. Uniform Distribution](#toc0_)"
   ]
  },
  {
   "cell_type": "markdown",
   "metadata": {
    "id": "q32ZYmK0GhbN"
   },
   "source": [
    "The uniform distribution is a symmetric probability in which the chances of all possible outcomes are the same. All of the values in the distribution have the same chance of happening, so they are all spread out in the same way. The \"rectangular distribution\" is another name for this type of distribution.\n",
    "\n",
    "You can read more about it in <a href=\"https://en.wikipedia.org/wiki/Continuous_uniform_distribution\">This link</a>.<br>"
   ]
  },
  {
   "cell_type": "code",
   "execution_count": null,
   "metadata": {
    "colab": {
     "base_uri": "https://localhost:8080/",
     "height": 513
    },
    "executionInfo": {
     "elapsed": 1248,
     "status": "ok",
     "timestamp": 1673989119233,
     "user": {
      "displayName": "sasidhar Sai",
      "userId": "03910604699370000651"
     },
     "user_tz": -330
    },
    "id": "E4t6djzO9lAf",
    "outputId": "bffcc814-e5a0-4e55-c521-cb37a92ca598"
   },
   "outputs": [
    {
     "data": {
      "image/png": "[encoded data removed]",
      "text/plain": [
       "<Figure size 720x576 with 1 Axes>"
      ]
     },
     "metadata": {
      "needs_background": "light"
     },
     "output_type": "display_data"
    }
   ],
   "source": [
    "# uniform library is used to maintain boundaries of the data\n",
    "from scipy.stats import uniform\n",
    "\n",
    "x=df['pcBfat'] \n",
    "plt.figure(figsize=(10,8))\n",
    "plt.hist(x,density = True,color='peru')\n",
    "plt.axhline(y=uniform.pdf(x[0]),color='b')\n",
    "plt.title('Uniform distribution')\n",
    "plt.ylabel('Probability Density Function')\n",
    "plt.xlabel('Percent Body Fat')\n",
    "plt.show()"
   ]
  },
  {
   "cell_type": "markdown",
   "metadata": {
    "id": "4g-92LvgwlMB"
   },
   "source": [
    "This graph reveals that the density of the percentage of body fat is very low in the majority of the players.\n",
    "\n",
    "* We can see a gradual decrease in the body's fat density.\n",
    "* Athletes have a higher probability density of 5% to 12% of their body.\n",
    "* We can also see that the density of 20% body fat is higher than that of 10% and 15% body fat.\n"
   ]
  },
  {
   "cell_type": "markdown",
   "metadata": {
    "id": "2kk45fxO5rit"
   },
   "source": [
    "## <a id='toc1_7_'></a>[7. Binomial Distribution](#toc0_)"
   ]
  },
  {
   "cell_type": "markdown",
   "metadata": {
    "id": "RYJzzpCBy1Hc"
   },
   "source": [
    "The binomial is a discrete probability distribution that figures out how likely it is that an event will happen a certain number of times in a certain number of chances. Use this distribution for a binomial random variable. These variables keep track of how many times an event happens in a certain number of trials. There are only two possible outcomes, and they can't both happen.\n",
    "\n",
    "* The value of a binomial is obtained by multiplying the number of independent trials by the successes.\n",
    "\n",
    "You can read more about it in <a href=\"https://en.wikipedia.org/wiki/Binomial_distribution\">This link</a>.<br>"
   ]
  },
  {
   "cell_type": "code",
   "execution_count": null,
   "metadata": {
    "colab": {
     "base_uri": "https://localhost:8080/"
    },
    "executionInfo": {
     "elapsed": 5,
     "status": "ok",
     "timestamp": 1673986684606,
     "user": {
      "displayName": "sasidhar Sai",
      "userId": "03910604699370000651"
     },
     "user_tz": -330
    },
    "id": "fCs3VcmaX3Qj",
    "outputId": "f91dcc0d-ad94-435a-ff38-b40cd2156f72"
   },
   "outputs": [
    {
     "data": {
      "text/plain": [
       "array(['B_Ball', 'Row', 'Netball', 'Swim', 'Field', 'T_400m', 'T_Sprnt',\n",
       "       'Tennis', 'Gym', 'W_Polo'], dtype=object)"
      ]
     },
     "execution_count": 28,
     "metadata": {},
     "output_type": "execute_result"
    }
   ],
   "source": [
    "# Identify the unique values in sport column\n",
    "df['sport'].unique()"
   ]
  },
  {
   "cell_type": "code",
   "execution_count": null,
   "metadata": {
    "id": "LtFpCE8uXCyr"
   },
   "outputs": [],
   "source": [
    "# Separating the dataframes based on their sport field.\n",
    "df1 = df[df['sport'] == 'B_Ball']\n",
    "df2 = df[df['sport'] == 'Swim']"
   ]
  },
  {
   "cell_type": "code",
   "execution_count": null,
   "metadata": {
    "colab": {
     "base_uri": "https://localhost:8080/",
     "height": 206
    },
    "executionInfo": {
     "elapsed": 5,
     "status": "ok",
     "timestamp": 1673986751668,
     "user": {
      "displayName": "sasidhar Sai",
      "userId": "03910604699370000651"
     },
     "user_tz": -330
    },
    "id": "4ZIrPPPNX9R-",
    "outputId": "799d9311-4ec5-4ee1-f393-b6b21deb3664"
   },
   "outputs": [
    {
     "data": {
      "text/html": [
       "\n",
       "  <div id=\"df-14f430c0-5a83-4ed4-b43b-f9346e3638e8\">\n",
       "    <div class=\"colab-df-container\">\n",
       "      <div>\n",
       "<style scoped>\n",
       "    .dataframe tbody tr th:only-of-type {\n",
       "        vertical-align: middle;\n",
       "    }\n",
       "\n",
       "    .dataframe tbody tr th {\n",
       "        vertical-align: top;\n",
       "    }\n",
       "\n",
       "    .dataframe thead th {\n",
       "        text-align: right;\n",
       "    }\n",
       "</style>\n",
       "<table border=\"1\" class=\"dataframe\">\n",
       "  <thead>\n",
       "    <tr style=\"text-align: right;\">\n",
       "      <th></th>\n",
       "      <th>rcc</th>\n",
       "      <th>wcc</th>\n",
       "      <th>hc</th>\n",
       "      <th>hg</th>\n",
       "      <th>ferr</th>\n",
       "      <th>bmi</th>\n",
       "      <th>ssf</th>\n",
       "      <th>pcBfat</th>\n",
       "      <th>lbm</th>\n",
       "      <th>ht</th>\n",
       "      <th>wt</th>\n",
       "      <th>sex</th>\n",
       "      <th>sport</th>\n",
       "    </tr>\n",
       "  </thead>\n",
       "  <tbody>\n",
       "    <tr>\n",
       "      <th>0</th>\n",
       "      <td>3.96</td>\n",
       "      <td>7.5</td>\n",
       "      <td>37.5</td>\n",
       "      <td>12.3</td>\n",
       "      <td>60</td>\n",
       "      <td>20.56</td>\n",
       "      <td>109.1</td>\n",
       "      <td>19.75</td>\n",
       "      <td>63.32</td>\n",
       "      <td>195.9</td>\n",
       "      <td>78.9</td>\n",
       "      <td>f</td>\n",
       "      <td>B_Ball</td>\n",
       "    </tr>\n",
       "    <tr>\n",
       "      <th>1</th>\n",
       "      <td>4.41</td>\n",
       "      <td>8.3</td>\n",
       "      <td>38.2</td>\n",
       "      <td>12.7</td>\n",
       "      <td>68</td>\n",
       "      <td>20.67</td>\n",
       "      <td>102.8</td>\n",
       "      <td>21.30</td>\n",
       "      <td>58.55</td>\n",
       "      <td>189.7</td>\n",
       "      <td>74.4</td>\n",
       "      <td>f</td>\n",
       "      <td>B_Ball</td>\n",
       "    </tr>\n",
       "    <tr>\n",
       "      <th>2</th>\n",
       "      <td>4.14</td>\n",
       "      <td>5.0</td>\n",
       "      <td>36.4</td>\n",
       "      <td>11.6</td>\n",
       "      <td>21</td>\n",
       "      <td>21.86</td>\n",
       "      <td>104.6</td>\n",
       "      <td>19.88</td>\n",
       "      <td>55.36</td>\n",
       "      <td>177.8</td>\n",
       "      <td>69.1</td>\n",
       "      <td>f</td>\n",
       "      <td>B_Ball</td>\n",
       "    </tr>\n",
       "    <tr>\n",
       "      <th>3</th>\n",
       "      <td>4.11</td>\n",
       "      <td>5.3</td>\n",
       "      <td>37.3</td>\n",
       "      <td>12.6</td>\n",
       "      <td>69</td>\n",
       "      <td>21.88</td>\n",
       "      <td>126.4</td>\n",
       "      <td>23.66</td>\n",
       "      <td>57.18</td>\n",
       "      <td>185.0</td>\n",
       "      <td>74.9</td>\n",
       "      <td>f</td>\n",
       "      <td>B_Ball</td>\n",
       "    </tr>\n",
       "    <tr>\n",
       "      <th>4</th>\n",
       "      <td>4.45</td>\n",
       "      <td>6.8</td>\n",
       "      <td>41.5</td>\n",
       "      <td>14.0</td>\n",
       "      <td>29</td>\n",
       "      <td>18.96</td>\n",
       "      <td>80.3</td>\n",
       "      <td>17.64</td>\n",
       "      <td>53.20</td>\n",
       "      <td>184.6</td>\n",
       "      <td>64.6</td>\n",
       "      <td>f</td>\n",
       "      <td>B_Ball</td>\n",
       "    </tr>\n",
       "  </tbody>\n",
       "</table>\n",
       "</div>\n",
       "      <button class=\"colab-df-convert\" onclick=\"convertToInteractive('df-14f430c0-5a83-4ed4-b43b-f9346e3638e8')\"\n",
       "              title=\"Convert this dataframe to an interactive table.\"\n",
       "              style=\"display:none;\">\n",
       "        \n",
       "  <svg xmlns=\"http://www.w3.org/2000/svg\" height=\"24px\"viewBox=\"0 0 24 24\"\n",
       "       width=\"24px\">\n",
       "    <path d=\"M0 0h24v24H0V0z\" fill=\"none\"/>\n",
       "    <path d=\"M18.56 5.44l.94 2.06.94-2.06 2.06-.94-2.06-.94-.94-2.06-.94 2.06-2.06.94zm-11 1L8.5 8.5l.94-2.06 2.06-.94-2.06-.94L8.5 2.5l-.94 2.06-2.06.94zm10 10l.94 2.06.94-2.06 2.06-.94-2.06-.94-.94-2.06-.94 2.06-2.06.94z\"/><path d=\"M17.41 7.96l-1.37-1.37c-.4-.4-.92-.59-1.43-.59-.52 0-1.04.2-1.43.59L10.3 9.45l-7.72 7.72c-.78.78-.78 2.05 0 2.83L4 21.41c.39.39.9.59 1.41.59.51 0 1.02-.2 1.41-.59l7.78-7.78 2.81-2.81c.8-.78.8-2.07 0-2.86zM5.41 20L4 18.59l7.72-7.72 1.47 1.35L5.41 20z\"/>\n",
       "  </svg>\n",
       "      </button>\n",
       "      \n",
       "  <style>\n",
       "    .colab-df-container {\n",
       "      display:flex;\n",
       "      flex-wrap:wrap;\n",
       "      gap: 12px;\n",
       "    }\n",
       "\n",
       "    .colab-df-convert {\n",
       "      background-color: #E8F0FE;\n",
       "      border: none;\n",
       "      border-radius: 50%;\n",
       "      cursor: pointer;\n",
       "      display: none;\n",
       "      fill: #1967D2;\n",
       "      height: 32px;\n",
       "      padding: 0 0 0 0;\n",
       "      width: 32px;\n",
       "    }\n",
       "\n",
       "    .colab-df-convert:hover {\n",
       "      background-color: #E2EBFA;\n",
       "      box-shadow: 0px 1px 2px rgba(60, 64, 67, 0.3), 0px 1px 3px 1px rgba(60, 64, 67, 0.15);\n",
       "      fill: #174EA6;\n",
       "    }\n",
       "\n",
       "    [theme=dark] .colab-df-convert {\n",
       "      background-color: #3B4455;\n",
       "      fill: #D2E3FC;\n",
       "    }\n",
       "\n",
       "    [theme=dark] .colab-df-convert:hover {\n",
       "      background-color: #434B5C;\n",
       "      box-shadow: 0px 1px 3px 1px rgba(0, 0, 0, 0.15);\n",
       "      filter: drop-shadow(0px 1px 2px rgba(0, 0, 0, 0.3));\n",
       "      fill: #FFFFFF;\n",
       "    }\n",
       "  </style>\n",
       "\n",
       "      <script>\n",
       "        const buttonEl =\n",
       "          document.querySelector('#df-14f430c0-5a83-4ed4-b43b-f9346e3638e8 button.colab-df-convert');\n",
       "        buttonEl.style.display =\n",
       "          google.colab.kernel.accessAllowed ? 'block' : 'none';\n",
       "\n",
       "        async function convertToInteractive(key) {\n",
       "          const element = document.querySelector('#df-14f430c0-5a83-4ed4-b43b-f9346e3638e8');\n",
       "          const dataTable =\n",
       "            await google.colab.kernel.invokeFunction('convertToInteractive',\n",
       "                                                     [key], {});\n",
       "          if (!dataTable) return;\n",
       "\n",
       "          const docLinkHtml = 'Like what you see? Visit the ' +\n",
       "            '<a target=\"_blank\" href=https://colab.research.google.com/notebooks/data_table.ipynb>data table notebook</a>'\n",
       "            + ' to learn more about interactive tables.';\n",
       "          element.innerHTML = '';\n",
       "          dataTable['output_type'] = 'display_data';\n",
       "          await google.colab.output.renderOutput(dataTable, element);\n",
       "          const docLink = document.createElement('div');\n",
       "          docLink.innerHTML = docLinkHtml;\n",
       "          element.appendChild(docLink);\n",
       "        }\n",
       "      </script>\n",
       "    </div>\n",
       "  </div>\n",
       "  "
      ],
      "text/plain": [
       "    rcc  wcc    hc    hg  ferr    bmi    ssf  pcBfat    lbm     ht    wt sex  \\\n",
       "0  3.96  7.5  37.5  12.3    60  20.56  109.1   19.75  63.32  195.9  78.9   f   \n",
       "1  4.41  8.3  38.2  12.7    68  20.67  102.8   21.30  58.55  189.7  74.4   f   \n",
       "2  4.14  5.0  36.4  11.6    21  21.86  104.6   19.88  55.36  177.8  69.1   f   \n",
       "3  4.11  5.3  37.3  12.6    69  21.88  126.4   23.66  57.18  185.0  74.9   f   \n",
       "4  4.45  6.8  41.5  14.0    29  18.96   80.3   17.64  53.20  184.6  64.6   f   \n",
       "\n",
       "    sport  \n",
       "0  B_Ball  \n",
       "1  B_Ball  \n",
       "2  B_Ball  \n",
       "3  B_Ball  \n",
       "4  B_Ball  "
      ]
     },
     "execution_count": 31,
     "metadata": {},
     "output_type": "execute_result"
    }
   ],
   "source": [
    "# displaying the rows of athletes from baseball\n",
    "df1.head()"
   ]
  },
  {
   "cell_type": "code",
   "execution_count": null,
   "metadata": {
    "colab": {
     "base_uri": "https://localhost:8080/",
     "height": 206
    },
    "executionInfo": {
     "elapsed": 7,
     "status": "ok",
     "timestamp": 1673986764175,
     "user": {
      "displayName": "sasidhar Sai",
      "userId": "03910604699370000651"
     },
     "user_tz": -330
    },
    "id": "591mW_F5YtdJ",
    "outputId": "49f22e7d-7544-48ee-a147-7954a87cff2e"
   },
   "outputs": [
    {
     "data": {
      "text/html": [
       "\n",
       "  <div id=\"df-22af44d1-5327-4422-aef6-c2ab661be6bc\">\n",
       "    <div class=\"colab-df-container\">\n",
       "      <div>\n",
       "<style scoped>\n",
       "    .dataframe tbody tr th:only-of-type {\n",
       "        vertical-align: middle;\n",
       "    }\n",
       "\n",
       "    .dataframe tbody tr th {\n",
       "        vertical-align: top;\n",
       "    }\n",
       "\n",
       "    .dataframe thead th {\n",
       "        text-align: right;\n",
       "    }\n",
       "</style>\n",
       "<table border=\"1\" class=\"dataframe\">\n",
       "  <thead>\n",
       "    <tr style=\"text-align: right;\">\n",
       "      <th></th>\n",
       "      <th>rcc</th>\n",
       "      <th>wcc</th>\n",
       "      <th>hc</th>\n",
       "      <th>hg</th>\n",
       "      <th>ferr</th>\n",
       "      <th>bmi</th>\n",
       "      <th>ssf</th>\n",
       "      <th>pcBfat</th>\n",
       "      <th>lbm</th>\n",
       "      <th>ht</th>\n",
       "      <th>wt</th>\n",
       "      <th>sex</th>\n",
       "      <th>sport</th>\n",
       "    </tr>\n",
       "  </thead>\n",
       "  <tbody>\n",
       "    <tr>\n",
       "      <th>58</th>\n",
       "      <td>4.36</td>\n",
       "      <td>5.5</td>\n",
       "      <td>41.4</td>\n",
       "      <td>13.8</td>\n",
       "      <td>82</td>\n",
       "      <td>22.42</td>\n",
       "      <td>71.3</td>\n",
       "      <td>14.52</td>\n",
       "      <td>55.39</td>\n",
       "      <td>170.0</td>\n",
       "      <td>64.8</td>\n",
       "      <td>f</td>\n",
       "      <td>Swim</td>\n",
       "    </tr>\n",
       "    <tr>\n",
       "      <th>59</th>\n",
       "      <td>4.07</td>\n",
       "      <td>5.9</td>\n",
       "      <td>39.5</td>\n",
       "      <td>13.3</td>\n",
       "      <td>25</td>\n",
       "      <td>20.42</td>\n",
       "      <td>54.6</td>\n",
       "      <td>11.47</td>\n",
       "      <td>52.23</td>\n",
       "      <td>170.0</td>\n",
       "      <td>59.0</td>\n",
       "      <td>f</td>\n",
       "      <td>Swim</td>\n",
       "    </tr>\n",
       "    <tr>\n",
       "      <th>60</th>\n",
       "      <td>4.17</td>\n",
       "      <td>4.9</td>\n",
       "      <td>38.9</td>\n",
       "      <td>12.9</td>\n",
       "      <td>86</td>\n",
       "      <td>22.13</td>\n",
       "      <td>88.2</td>\n",
       "      <td>17.71</td>\n",
       "      <td>59.33</td>\n",
       "      <td>180.5</td>\n",
       "      <td>72.1</td>\n",
       "      <td>f</td>\n",
       "      <td>Swim</td>\n",
       "    </tr>\n",
       "    <tr>\n",
       "      <th>61</th>\n",
       "      <td>4.23</td>\n",
       "      <td>8.1</td>\n",
       "      <td>38.2</td>\n",
       "      <td>12.7</td>\n",
       "      <td>22</td>\n",
       "      <td>25.17</td>\n",
       "      <td>95.4</td>\n",
       "      <td>18.48</td>\n",
       "      <td>61.63</td>\n",
       "      <td>173.3</td>\n",
       "      <td>75.6</td>\n",
       "      <td>f</td>\n",
       "      <td>Swim</td>\n",
       "    </tr>\n",
       "    <tr>\n",
       "      <th>62</th>\n",
       "      <td>4.46</td>\n",
       "      <td>8.3</td>\n",
       "      <td>42.2</td>\n",
       "      <td>14.4</td>\n",
       "      <td>30</td>\n",
       "      <td>23.72</td>\n",
       "      <td>47.5</td>\n",
       "      <td>11.22</td>\n",
       "      <td>63.39</td>\n",
       "      <td>173.5</td>\n",
       "      <td>71.4</td>\n",
       "      <td>f</td>\n",
       "      <td>Swim</td>\n",
       "    </tr>\n",
       "  </tbody>\n",
       "</table>\n",
       "</div>\n",
       "      <button class=\"colab-df-convert\" onclick=\"convertToInteractive('df-22af44d1-5327-4422-aef6-c2ab661be6bc')\"\n",
       "              title=\"Convert this dataframe to an interactive table.\"\n",
       "              style=\"display:none;\">\n",
       "        \n",
       "  <svg xmlns=\"http://www.w3.org/2000/svg\" height=\"24px\"viewBox=\"0 0 24 24\"\n",
       "       width=\"24px\">\n",
       "    <path d=\"M0 0h24v24H0V0z\" fill=\"none\"/>\n",
       "    <path d=\"M18.56 5.44l.94 2.06.94-2.06 2.06-.94-2.06-.94-.94-2.06-.94 2.06-2.06.94zm-11 1L8.5 8.5l.94-2.06 2.06-.94-2.06-.94L8.5 2.5l-.94 2.06-2.06.94zm10 10l.94 2.06.94-2.06 2.06-.94-2.06-.94-.94-2.06-.94 2.06-2.06.94z\"/><path d=\"M17.41 7.96l-1.37-1.37c-.4-.4-.92-.59-1.43-.59-.52 0-1.04.2-1.43.59L10.3 9.45l-7.72 7.72c-.78.78-.78 2.05 0 2.83L4 21.41c.39.39.9.59 1.41.59.51 0 1.02-.2 1.41-.59l7.78-7.78 2.81-2.81c.8-.78.8-2.07 0-2.86zM5.41 20L4 18.59l7.72-7.72 1.47 1.35L5.41 20z\"/>\n",
       "  </svg>\n",
       "      </button>\n",
       "      \n",
       "  <style>\n",
       "    .colab-df-container {\n",
       "      display:flex;\n",
       "      flex-wrap:wrap;\n",
       "      gap: 12px;\n",
       "    }\n",
       "\n",
       "    .colab-df-convert {\n",
       "      background-color: #E8F0FE;\n",
       "      border: none;\n",
       "      border-radius: 50%;\n",
       "      cursor: pointer;\n",
       "      display: none;\n",
       "      fill: #1967D2;\n",
       "      height: 32px;\n",
       "      padding: 0 0 0 0;\n",
       "      width: 32px;\n",
       "    }\n",
       "\n",
       "    .colab-df-convert:hover {\n",
       "      background-color: #E2EBFA;\n",
       "      box-shadow: 0px 1px 2px rgba(60, 64, 67, 0.3), 0px 1px 3px 1px rgba(60, 64, 67, 0.15);\n",
       "      fill: #174EA6;\n",
       "    }\n",
       "\n",
       "    [theme=dark] .colab-df-convert {\n",
       "      background-color: #3B4455;\n",
       "      fill: #D2E3FC;\n",
       "    }\n",
       "\n",
       "    [theme=dark] .colab-df-convert:hover {\n",
       "      background-color: #434B5C;\n",
       "      box-shadow: 0px 1px 3px 1px rgba(0, 0, 0, 0.15);\n",
       "      filter: drop-shadow(0px 1px 2px rgba(0, 0, 0, 0.3));\n",
       "      fill: #FFFFFF;\n",
       "    }\n",
       "  </style>\n",
       "\n",
       "      <script>\n",
       "        const buttonEl =\n",
       "          document.querySelector('#df-22af44d1-5327-4422-aef6-c2ab661be6bc button.colab-df-convert');\n",
       "        buttonEl.style.display =\n",
       "          google.colab.kernel.accessAllowed ? 'block' : 'none';\n",
       "\n",
       "        async function convertToInteractive(key) {\n",
       "          const element = document.querySelector('#df-22af44d1-5327-4422-aef6-c2ab661be6bc');\n",
       "          const dataTable =\n",
       "            await google.colab.kernel.invokeFunction('convertToInteractive',\n",
       "                                                     [key], {});\n",
       "          if (!dataTable) return;\n",
       "\n",
       "          const docLinkHtml = 'Like what you see? Visit the ' +\n",
       "            '<a target=\"_blank\" href=https://colab.research.google.com/notebooks/data_table.ipynb>data table notebook</a>'\n",
       "            + ' to learn more about interactive tables.';\n",
       "          element.innerHTML = '';\n",
       "          dataTable['output_type'] = 'display_data';\n",
       "          await google.colab.output.renderOutput(dataTable, element);\n",
       "          const docLink = document.createElement('div');\n",
       "          docLink.innerHTML = docLinkHtml;\n",
       "          element.appendChild(docLink);\n",
       "        }\n",
       "      </script>\n",
       "    </div>\n",
       "  </div>\n",
       "  "
      ],
      "text/plain": [
       "     rcc  wcc    hc    hg  ferr    bmi   ssf  pcBfat    lbm     ht    wt sex  \\\n",
       "58  4.36  5.5  41.4  13.8    82  22.42  71.3   14.52  55.39  170.0  64.8   f   \n",
       "59  4.07  5.9  39.5  13.3    25  20.42  54.6   11.47  52.23  170.0  59.0   f   \n",
       "60  4.17  4.9  38.9  12.9    86  22.13  88.2   17.71  59.33  180.5  72.1   f   \n",
       "61  4.23  8.1  38.2  12.7    22  25.17  95.4   18.48  61.63  173.3  75.6   f   \n",
       "62  4.46  8.3  42.2  14.4    30  23.72  47.5   11.22  63.39  173.5  71.4   f   \n",
       "\n",
       "   sport  \n",
       "58  Swim  \n",
       "59  Swim  \n",
       "60  Swim  \n",
       "61  Swim  \n",
       "62  Swim  "
      ]
     },
     "execution_count": 32,
     "metadata": {},
     "output_type": "execute_result"
    }
   ],
   "source": [
    "# displaying the rows of swimming athletes\n",
    "df2.head()"
   ]
  },
  {
   "cell_type": "markdown",
   "metadata": {
    "id": "BA4kp9YJbldH"
   },
   "source": [
    "We are plotting graphs of the heights of basketball and swimming athletes here. so we can understand their height distribution among the sport's fields."
   ]
  },
  {
   "cell_type": "code",
   "execution_count": null,
   "metadata": {
    "colab": {
     "base_uri": "https://localhost:8080/",
     "height": 568
    },
    "executionInfo": {
     "elapsed": 429,
     "status": "ok",
     "timestamp": 1673990268579,
     "user": {
      "displayName": "sasidhar Sai",
      "userId": "03910604699370000651"
     },
     "user_tz": -330
    },
    "id": "mvlvgGxv5rEP",
    "outputId": "196b691a-358f-4435-ec4b-797cc5dc4685"
   },
   "outputs": [
    {
     "name": "stderr",
     "output_type": "stream",
     "text": [
      "/usr/local/lib/python3.8/dist-packages/seaborn/distributions.py:2619: FutureWarning: `distplot` is a deprecated function and will be removed in a future version. Please adapt your code to use either `displot` (a figure-level function with similar flexibility) or `histplot` (an axes-level function for histograms).\n",
      "  warnings.warn(msg, FutureWarning)\n"
     ]
    },
    {
     "data": {
      "image/png": "[encoded data removed]",
      "text/plain": [
       "<Figure size 720x576 with 1 Axes>"
      ]
     },
     "metadata": {
      "needs_background": "light"
     },
     "output_type": "display_data"
    }
   ],
   "source": [
    "# plotting a histogram for baseball athletes height\n",
    "plt.figure(figsize=(10,8))\n",
    "ax = sns.distplot(df1['ht'],\n",
    "                  bins=50,\n",
    "                  kde=False,\n",
    "                  color='coral',\n",
    "                  hist_kws={\"linewidth\": 15, 'alpha': 1}\n",
    ")\n",
    "plt.title('Binomial distribution')\n",
    "plt.ylabel('Probability')\n",
    "plt.xlabel('Height')\n",
    "plt.show()"
   ]
  },
  {
   "cell_type": "code",
   "execution_count": null,
   "metadata": {
    "colab": {
     "base_uri": "https://localhost:8080/",
     "height": 386
    },
    "executionInfo": {
     "elapsed": 778,
     "status": "ok",
     "timestamp": 1673990774346,
     "user": {
      "displayName": "sasidhar Sai",
      "userId": "03910604699370000651"
     },
     "user_tz": -330
    },
    "id": "NRbWWmVznKd2",
    "outputId": "3e9a6e3f-cb98-4459-b740-d2c714619030"
   },
   "outputs": [
    {
     "data": {
      "text/plain": [
       "<Figure size 864x576 with 0 Axes>"
      ]
     },
     "metadata": {},
     "output_type": "display_data"
    },
    {
     "data": {
      "image/png": "[encoded data removed]",
      "text/plain": [
       "<Figure size 720x360 with 2 Axes>"
      ]
     },
     "metadata": {
      "needs_background": "light"
     },
     "output_type": "display_data"
    }
   ],
   "source": [
    "# plotting a histogram based on sex for baseball athletes height \n",
    "\n",
    "ax=sns.displot(data=df1, x=\"ht\", \n",
    "            kde=True, \n",
    "            col=\"sex\", \n",
    "            color='lime',\n",
    "            line_kws={'lw': 3}, \n",
    "            facecolor='coral', edgecolor='black')"
   ]
  },
  {
   "cell_type": "markdown",
   "metadata": {
    "id": "wxuPt7OOdK6y"
   },
   "source": [
    "We can see that the height of a baseball athlete is more likely to be 185, 187, or 196. \n",
    "\n",
    "* For male athletes in baseball, the range for height is around 190 to 195 cm.\n",
    "* For female athletes in baseball, the range for height is around 185 to 190 cm."
   ]
  },
  {
   "cell_type": "code",
   "execution_count": null,
   "metadata": {
    "colab": {
     "base_uri": "https://localhost:8080/",
     "height": 513
    },
    "executionInfo": {
     "elapsed": 1610,
     "status": "ok",
     "timestamp": 1673989202772,
     "user": {
      "displayName": "sasidhar Sai",
      "userId": "03910604699370000651"
     },
     "user_tz": -330
    },
    "id": "KHqI334yZXMB",
    "outputId": "186c2de0-9ec2-47e0-dad4-7e428e31d973"
   },
   "outputs": [
    {
     "data": {
      "image/png": "[encoded data removed]",
      "text/plain": [
       "<Figure size 720x576 with 1 Axes>"
      ]
     },
     "metadata": {
      "needs_background": "light"
     },
     "output_type": "display_data"
    }
   ],
   "source": [
    "# plotting a histogram for swimming athletes height\n",
    "plt.figure(figsize=(10,8))\n",
    "ax = sns.distplot(df2['ht'],\n",
    "                  bins=50,\n",
    "                  kde=False,\n",
    "                  color='coral',\n",
    "                  hist_kws={\"linewidth\": 15, 'alpha': 1})\n",
    "plt.title('Binomial distribution')\n",
    "plt.ylabel('Probability')\n",
    "plt.xlabel('Height')\n",
    "plt.show()"
   ]
  },
  {
   "cell_type": "code",
   "execution_count": null,
   "metadata": {
    "colab": {
     "base_uri": "https://localhost:8080/",
     "height": 369
    },
    "executionInfo": {
     "elapsed": 1124,
     "status": "ok",
     "timestamp": 1673991201537,
     "user": {
      "displayName": "sasidhar Sai",
      "userId": "03910604699370000651"
     },
     "user_tz": -330
    },
    "id": "gwafrWC0pShH",
    "outputId": "980cebf7-a1b5-4a21-e842-8532b0006dd9"
   },
   "outputs": [
    {
     "data": {
      "image/png": "[encoded data removed]",
      "text/plain": [
       "<Figure size 720x360 with 2 Axes>"
      ]
     },
     "metadata": {
      "needs_background": "light"
     },
     "output_type": "display_data"
    }
   ],
   "source": [
    "# plotting a histogram based on sex for swimming athletes height \n",
    "\n",
    "ax=sns.displot(data=df2, x=\"ht\", \n",
    "            kde=True, \n",
    "            col=\"sex\", \n",
    "            color='lime',\n",
    "            line_kws={'lw': 3}, \n",
    "            facecolor='coral', edgecolor='black')"
   ]
  },
  {
   "cell_type": "markdown",
   "metadata": {
    "id": "xNun2LlJzeGb"
   },
   "source": [
    "Here we can see that the We can see that the height of a swimming athlete is more likely to be 170, 173, 183, or 184.\n",
    "\n",
    "* For male athletes in swimming, the range for height is around 183 to 190 cm.\n",
    "* For female athletes in swimming, the range for height is around 170 to 175 cm."
   ]
  },
  {
   "cell_type": "markdown",
   "metadata": {
    "id": "rPHsudnJd0Qa"
   },
   "source": [
    "Based on the athletes' heights, we can conclude that the baseball player is slightly taller than the swimmer.\n",
    "\n",
    "* This is mostly true for female athletes, but it is also true for male athletes to a lesser extent."
   ]
  },
  {
   "cell_type": "markdown",
   "metadata": {
    "id": "TXyR3HbIfD7K"
   },
   "source": [
    "We are plotting graphs of the weights of basketball and swimming athletes here. so we can understand their weight distribution among the sport's fields."
   ]
  },
  {
   "cell_type": "code",
   "execution_count": null,
   "metadata": {
    "colab": {
     "base_uri": "https://localhost:8080/",
     "height": 513
    },
    "executionInfo": {
     "elapsed": 1046,
     "status": "ok",
     "timestamp": 1673989326339,
     "user": {
      "displayName": "sasidhar Sai",
      "userId": "03910604699370000651"
     },
     "user_tz": -330
    },
    "id": "pcGGJkGV2YMx",
    "outputId": "3c9eef95-b9d5-4839-dfd7-c91128d82f7b"
   },
   "outputs": [
    {
     "data": {
      "image/png": "[encoded data removed]",
      "text/plain": [
       "<Figure size 720x576 with 1 Axes>"
      ]
     },
     "metadata": {
      "needs_background": "light"
     },
     "output_type": "display_data"
    }
   ],
   "source": [
    "plt.figure(figsize=(10,8))\n",
    "ax = sns.distplot(df1['wt'],\n",
    "                  bins=90,\n",
    "                  kde=False,\n",
    "                  color='goldenrod',\n",
    "                  hist_kws={\"linewidth\": 15, 'alpha': 1})\n",
    "plt.title('Binomial distribution')\n",
    "plt.ylabel('Probability')\n",
    "plt.xlabel('Weight')\n",
    "plt.show()"
   ]
  },
  {
   "cell_type": "code",
   "execution_count": null,
   "metadata": {
    "colab": {
     "base_uri": "https://localhost:8080/",
     "height": 369
    },
    "executionInfo": {
     "elapsed": 1618,
     "status": "ok",
     "timestamp": 1673991787205,
     "user": {
      "displayName": "sasidhar Sai",
      "userId": "03910604699370000651"
     },
     "user_tz": -330
    },
    "id": "NKGlONEjr10C",
    "outputId": "9b55b9d8-edbf-494e-9b15-6414e0670a93"
   },
   "outputs": [
    {
     "data": {
      "image/png": "[encoded data removed]",
      "text/plain": [
       "<Figure size 720x360 with 2 Axes>"
      ]
     },
     "metadata": {
      "needs_background": "light"
     },
     "output_type": "display_data"
    }
   ],
   "source": [
    "# plotting a histogram based on sex for baseball athletes weight\n",
    "\n",
    "ax=sns.displot(data=df1, x=\"wt\", \n",
    "            kde=True, \n",
    "            col=\"sex\", \n",
    "            color='lime',\n",
    "            line_kws={'lw': 3}, \n",
    "            facecolor='coral', edgecolor='black')"
   ]
  },
  {
   "cell_type": "markdown",
   "metadata": {
    "id": "iA-5R048gFyn"
   },
   "source": [
    "The majority of players, as depicted in the graph above, weigh less than 80 kilograms.\n",
    "\n",
    "* For male athletes in baseball, the range for weight is around 80 to 90 kg.\n",
    "* For female athletes in baseball, the range for weight is around 63 to 70 kg."
   ]
  },
  {
   "cell_type": "code",
   "execution_count": null,
   "metadata": {
    "colab": {
     "base_uri": "https://localhost:8080/",
     "height": 513
    },
    "executionInfo": {
     "elapsed": 1260,
     "status": "ok",
     "timestamp": 1673989339043,
     "user": {
      "displayName": "sasidhar Sai",
      "userId": "03910604699370000651"
     },
     "user_tz": -330
    },
    "id": "fmu00nRObgUw",
    "outputId": "b4ccaf5b-cc1a-4b8a-e798-9c5647dc6dd0"
   },
   "outputs": [
    {
     "data": {
      "image/png": "[encoded data removed]",
      "text/plain": [
       "<Figure size 720x576 with 1 Axes>"
      ]
     },
     "metadata": {
      "needs_background": "light"
     },
     "output_type": "display_data"
    }
   ],
   "source": [
    "plt.figure(figsize=(10,8))\n",
    "ax = sns.distplot(df2['wt'],\n",
    "                  bins=90,\n",
    "                  kde=False,\n",
    "                  color='goldenrod',\n",
    "                  hist_kws={\"linewidth\": 15, 'alpha': 1})\n",
    "plt.title('Binomial distribution')\n",
    "plt.ylabel('Probability')\n",
    "plt.xlabel('Weight')\n",
    "plt.show()"
   ]
  },
  {
   "cell_type": "code",
   "execution_count": null,
   "metadata": {
    "colab": {
     "base_uri": "https://localhost:8080/",
     "height": 369
    },
    "executionInfo": {
     "elapsed": 1141,
     "status": "ok",
     "timestamp": 1673992000096,
     "user": {
      "displayName": "sasidhar Sai",
      "userId": "03910604699370000651"
     },
     "user_tz": -330
    },
    "id": "lRCFkTuVskFn",
    "outputId": "1d70684f-820d-4d60-c1ec-de37e56f5a85"
   },
   "outputs": [
    {
     "data": {
      "image/png": "[encoded data removed]",
      "text/plain": [
       "<Figure size 720x360 with 2 Axes>"
      ]
     },
     "metadata": {
      "needs_background": "light"
     },
     "output_type": "display_data"
    }
   ],
   "source": [
    "# plotting a histogram based on sex for swimming athletes weight\n",
    "\n",
    "ax=sns.displot(data=df2, x=\"wt\", \n",
    "            kde=True, \n",
    "            col=\"sex\", \n",
    "            color='lime',\n",
    "            line_kws={'lw': 3}, \n",
    "            facecolor='coral', edgecolor='black')"
   ]
  },
  {
   "cell_type": "markdown",
   "metadata": {
    "id": "1M6uyBJB0P0U"
   },
   "source": [
    "The majority of players, as depicted in the graph above, weigh less than 80 kilograms.\n",
    "\n",
    "* For male athletes in baseball, the range for weight is around 76 to 83 kg.\n",
    "* For female athletes in baseball, the range for weight is around 60 to 71 kg.\n"
   ]
  },
  {
   "cell_type": "markdown",
   "metadata": {
    "id": "ilE_UsTQikWy"
   },
   "source": [
    "Based on the athletes' weights, we can conclude that the baseball player is slightly heavier than the swimmer.\n",
    "\n",
    "* This is mostly true for male athletes, but it is also true for female athletes to a lesser extent.\n",
    " \n",
    "\n"
   ]
  },
  {
   "cell_type": "markdown",
   "metadata": {
    "id": "7PwqiwXg9Kte"
   },
   "source": [
    "## <a id='toc1_8_'></a>[8. Bernoulli Distribution](#toc0_)"
   ]
  },
  {
   "cell_type": "markdown",
   "metadata": {
    "id": "kTVW8iP2DYOA"
   },
   "source": [
    "A Bernoulli distribution is a discrete distribution with only two possible values for the random variable. The distribution has only two possible outcomes and a single trial, which is called a Bernoulli trial. The two possible outcomes in the Bernoulli distribution are labeled n=0 and n=1 in which n=1 (success) occurs with probability p and n=0 (failure) occurs with probability 1-p, and since it is a probability value, so 0<=p<=1.\n",
    "\n",
    "* The probability values of mutually exclusive events that encompass all the possible outcomes need to sum up to one.\n",
    "\n",
    "You can read more about it in <a href=\"https://en.wikipedia.org/wiki/Bernoulli_distribution\">This link</a>.<br>"
   ]
  },
  {
   "cell_type": "code",
   "execution_count": null,
   "metadata": {
    "colab": {
     "base_uri": "https://localhost:8080/",
     "height": 519
    },
    "executionInfo": {
     "elapsed": 501,
     "status": "ok",
     "timestamp": 1673992689897,
     "user": {
      "displayName": "sasidhar Sai",
      "userId": "03910604699370000651"
     },
     "user_tz": -330
    },
    "id": "9yqDFK948gwI",
    "outputId": "cfbd7f39-9ac0-4765-c3d2-fc49ae16d7b0"
   },
   "outputs": [
    {
     "data": {
      "image/png": "[encoded data removed]",
      "text/plain": [
       "<Figure size 720x576 with 1 Axes>"
      ]
     },
     "metadata": {
      "needs_background": "light"
     },
     "output_type": "display_data"
    }
   ],
   "source": [
    "sample = df[\"hc\"]\n",
    "num_trials = [5,10,20,50,75,100,200,500]\n",
    "points = [sample[0:l].mean() for l in num_trials]\n",
    "plt.figure(figsize=(10,8))\n",
    "plt.plot(num_trials, points, marker='o')\n",
    "plt.xlabel('Number of trials for Hematocrit', fontsize = 14)\n",
    "plt.ylabel('Probability',fontsize= 19)\n",
    "plt.title('Bernoulli distribution',fontsize= 15)\n",
    "plt.show()"
   ]
  },
  {
   "cell_type": "markdown",
   "metadata": {
    "id": "n7guabDGF9Gp"
   },
   "source": [
    "Here, we can see that after increasing the number of trials, the success rate of the Hematocrit percentage is high.\n",
    "\n",
    "[Hematocrit is the percentage by volume of red cells in your blood]"
   ]
  },
  {
   "cell_type": "code",
   "execution_count": null,
   "metadata": {
    "colab": {
     "base_uri": "https://localhost:8080/",
     "height": 519
    },
    "executionInfo": {
     "elapsed": 1109,
     "status": "ok",
     "timestamp": 1673992770624,
     "user": {
      "displayName": "sasidhar Sai",
      "userId": "03910604699370000651"
     },
     "user_tz": -330
    },
    "id": "vzVXhISc9eOc",
    "outputId": "9f0dacfb-48f5-4f2f-c965-d5cd4147b427"
   },
   "outputs": [
    {
     "data": {
      "image/png": "[encoded data removed]",
      "text/plain": [
       "<Figure size 720x576 with 1 Axes>"
      ]
     },
     "metadata": {
      "needs_background": "light"
     },
     "output_type": "display_data"
    }
   ],
   "source": [
    "sample = df1[\"pcBfat\"]\n",
    "num_trials = [5,10,20,50,75,100,200,500]\n",
    "points = [sample[0:l].mean() for l in num_trials]\n",
    "plt.figure(figsize=(10,8))\n",
    "plt.plot(num_trials, points, marker='o')\n",
    "plt.xlabel('Number of trials for Percent Body Fat', fontsize = 14)\n",
    "plt.ylabel('frac', fontsize= 19)\n",
    "plt.title('Bernoulli distribution',fontsize= 15)\n",
    "plt.show()"
   ]
  },
  {
   "cell_type": "markdown",
   "metadata": {
    "id": "0TvziqqEI_s2"
   },
   "source": [
    "However, as you can see, the success rate of reducing percent body fat decreases as the number of trails increases."
   ]
  },
  {
   "cell_type": "markdown",
   "metadata": {
    "id": "2pN39m2i6NtN"
   },
   "source": [
    "## <a id='toc1_9_'></a>[9. Poisson Distribution](#toc0_)"
   ]
  },
  {
   "cell_type": "markdown",
   "metadata": {
    "id": "YTTCjIiL3GES"
   },
   "source": [
    "The definition of the poisson distribution is used to model the discrete probability of an event in which independent events happen at a known constant mean rate over a fixed amount of time. In other words, a Poisson distribution is used to figure out how often something is likely to happen in a certain amount of time. λ is the Poisson rate parameter that shows how many events are expected to happen on average in a fixed amount of time.\n",
    "\n",
    "![Screenshot 2023-01-06 091414.png](data:image/png;base64,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)\n",
    "\n",
    "* When λ is a non-integer, the mode is the closest integer smaller than λ.\n",
    "* When λ is an integer, there are two modes: λ and  λ−1.\n",
    "* When λ is low, the distribution is much longer on the right side of its peak than its left (i.e., it is strongly right-skewed).\n",
    "*  λ increases, the distribution looks more and more similar to a normal distribution.\n",
    "<br>\n",
    "\n",
    "You can read more about it in <a href=\"https://en.wikipedia.org/wiki/Poisson_distribution\">This link</a>.<br>"
   ]
  },
  {
   "cell_type": "markdown",
   "metadata": {
    "id": "snqY-wkj2cFK"
   },
   "source": [
    "For Posission Distributions and Exponential Distribution we'll import another dataset."
   ]
  },
  {
   "cell_type": "code",
   "execution_count": null,
   "metadata": {
    "id": "hSjhqB1q2ZAe"
   },
   "outputs": [],
   "source": [
    "df1 = pd.read_csv('athlete.csv')"
   ]
  },
  {
   "cell_type": "code",
   "execution_count": null,
   "metadata": {
    "colab": {
     "base_uri": "https://localhost:8080/",
     "height": 363
    },
    "executionInfo": {
     "elapsed": 47,
     "status": "ok",
     "timestamp": 1673982188016,
     "user": {
      "displayName": "Rohit Prasan Mandal",
      "userId": "14873299938685600670"
     },
     "user_tz": -330
    },
    "id": "MIxRN-WBGL3q",
    "outputId": "68407caa-f343-489d-8bbe-6b0e2582f17f"
   },
   "outputs": [
    {
     "data": {
      "text/html": [
       "\n",
       "  <div id=\"df-5c5c259c-de28-4e32-b642-c4b42da3d82c\">\n",
       "    <div class=\"colab-df-container\">\n",
       "      <div>\n",
       "<style scoped>\n",
       "    .dataframe tbody tr th:only-of-type {\n",
       "        vertical-align: middle;\n",
       "    }\n",
       "\n",
       "    .dataframe tbody tr th {\n",
       "        vertical-align: top;\n",
       "    }\n",
       "\n",
       "    .dataframe thead th {\n",
       "        text-align: right;\n",
       "    }\n",
       "</style>\n",
       "<table border=\"1\" class=\"dataframe\">\n",
       "  <thead>\n",
       "    <tr style=\"text-align: right;\">\n",
       "      <th></th>\n",
       "      <th>Name</th>\n",
       "      <th>Earnings</th>\n",
       "      <th>Year</th>\n",
       "      <th>Sport</th>\n",
       "    </tr>\n",
       "  </thead>\n",
       "  <tbody>\n",
       "    <tr>\n",
       "      <th>0</th>\n",
       "      <td>Conor McGregor</td>\n",
       "      <td>180.0</td>\n",
       "      <td>2021</td>\n",
       "      <td>Mixed Martial Arts</td>\n",
       "    </tr>\n",
       "    <tr>\n",
       "      <th>1</th>\n",
       "      <td>Lionel Messi</td>\n",
       "      <td>130.0</td>\n",
       "      <td>2021</td>\n",
       "      <td>Soccer</td>\n",
       "    </tr>\n",
       "    <tr>\n",
       "      <th>2</th>\n",
       "      <td>Cristiano Ronaldo</td>\n",
       "      <td>120.0</td>\n",
       "      <td>2021</td>\n",
       "      <td>Soccer</td>\n",
       "    </tr>\n",
       "    <tr>\n",
       "      <th>3</th>\n",
       "      <td>Dak Prescott</td>\n",
       "      <td>107.5</td>\n",
       "      <td>2021</td>\n",
       "      <td>Football</td>\n",
       "    </tr>\n",
       "    <tr>\n",
       "      <th>4</th>\n",
       "      <td>LeBron James</td>\n",
       "      <td>96.5</td>\n",
       "      <td>2021</td>\n",
       "      <td>Basketball</td>\n",
       "    </tr>\n",
       "    <tr>\n",
       "      <th>5</th>\n",
       "      <td>Neymar</td>\n",
       "      <td>95.0</td>\n",
       "      <td>2021</td>\n",
       "      <td>Soccer</td>\n",
       "    </tr>\n",
       "    <tr>\n",
       "      <th>6</th>\n",
       "      <td>Roger Federer</td>\n",
       "      <td>90.0</td>\n",
       "      <td>2021</td>\n",
       "      <td>Tennis</td>\n",
       "    </tr>\n",
       "    <tr>\n",
       "      <th>7</th>\n",
       "      <td>Lewis Hamilton</td>\n",
       "      <td>82.0</td>\n",
       "      <td>2021</td>\n",
       "      <td>Racing</td>\n",
       "    </tr>\n",
       "    <tr>\n",
       "      <th>8</th>\n",
       "      <td>Tom Brady</td>\n",
       "      <td>76.0</td>\n",
       "      <td>2021</td>\n",
       "      <td>Football</td>\n",
       "    </tr>\n",
       "    <tr>\n",
       "      <th>9</th>\n",
       "      <td>Kevin Durant</td>\n",
       "      <td>75.0</td>\n",
       "      <td>2021</td>\n",
       "      <td>Basketball</td>\n",
       "    </tr>\n",
       "  </tbody>\n",
       "</table>\n",
       "</div>\n",
       "      <button class=\"colab-df-convert\" onclick=\"convertToInteractive('df-5c5c259c-de28-4e32-b642-c4b42da3d82c')\"\n",
       "              title=\"Convert this dataframe to an interactive table.\"\n",
       "              style=\"display:none;\">\n",
       "        \n",
       "  <svg xmlns=\"http://www.w3.org/2000/svg\" height=\"24px\"viewBox=\"0 0 24 24\"\n",
       "       width=\"24px\">\n",
       "    <path d=\"M0 0h24v24H0V0z\" fill=\"none\"/>\n",
       "    <path d=\"M18.56 5.44l.94 2.06.94-2.06 2.06-.94-2.06-.94-.94-2.06-.94 2.06-2.06.94zm-11 1L8.5 8.5l.94-2.06 2.06-.94-2.06-.94L8.5 2.5l-.94 2.06-2.06.94zm10 10l.94 2.06.94-2.06 2.06-.94-2.06-.94-.94-2.06-.94 2.06-2.06.94z\"/><path d=\"M17.41 7.96l-1.37-1.37c-.4-.4-.92-.59-1.43-.59-.52 0-1.04.2-1.43.59L10.3 9.45l-7.72 7.72c-.78.78-.78 2.05 0 2.83L4 21.41c.39.39.9.59 1.41.59.51 0 1.02-.2 1.41-.59l7.78-7.78 2.81-2.81c.8-.78.8-2.07 0-2.86zM5.41 20L4 18.59l7.72-7.72 1.47 1.35L5.41 20z\"/>\n",
       "  </svg>\n",
       "      </button>\n",
       "      \n",
       "  <style>\n",
       "    .colab-df-container {\n",
       "      display:flex;\n",
       "      flex-wrap:wrap;\n",
       "      gap: 12px;\n",
       "    }\n",
       "\n",
       "    .colab-df-convert {\n",
       "      background-color: #E8F0FE;\n",
       "      border: none;\n",
       "      border-radius: 50%;\n",
       "      cursor: pointer;\n",
       "      display: none;\n",
       "      fill: #1967D2;\n",
       "      height: 32px;\n",
       "      padding: 0 0 0 0;\n",
       "      width: 32px;\n",
       "    }\n",
       "\n",
       "    .colab-df-convert:hover {\n",
       "      background-color: #E2EBFA;\n",
       "      box-shadow: 0px 1px 2px rgba(60, 64, 67, 0.3), 0px 1px 3px 1px rgba(60, 64, 67, 0.15);\n",
       "      fill: #174EA6;\n",
       "    }\n",
       "\n",
       "    [theme=dark] .colab-df-convert {\n",
       "      background-color: #3B4455;\n",
       "      fill: #D2E3FC;\n",
       "    }\n",
       "\n",
       "    [theme=dark] .colab-df-convert:hover {\n",
       "      background-color: #434B5C;\n",
       "      box-shadow: 0px 1px 3px 1px rgba(0, 0, 0, 0.15);\n",
       "      filter: drop-shadow(0px 1px 2px rgba(0, 0, 0, 0.3));\n",
       "      fill: #FFFFFF;\n",
       "    }\n",
       "  </style>\n",
       "\n",
       "      <script>\n",
       "        const buttonEl =\n",
       "          document.querySelector('#df-5c5c259c-de28-4e32-b642-c4b42da3d82c button.colab-df-convert');\n",
       "        buttonEl.style.display =\n",
       "          google.colab.kernel.accessAllowed ? 'block' : 'none';\n",
       "\n",
       "        async function convertToInteractive(key) {\n",
       "          const element = document.querySelector('#df-5c5c259c-de28-4e32-b642-c4b42da3d82c');\n",
       "          const dataTable =\n",
       "            await google.colab.kernel.invokeFunction('convertToInteractive',\n",
       "                                                     [key], {});\n",
       "          if (!dataTable) return;\n",
       "\n",
       "          const docLinkHtml = 'Like what you see? Visit the ' +\n",
       "            '<a target=\"_blank\" href=https://colab.research.google.com/notebooks/data_table.ipynb>data table notebook</a>'\n",
       "            + ' to learn more about interactive tables.';\n",
       "          element.innerHTML = '';\n",
       "          dataTable['output_type'] = 'display_data';\n",
       "          await google.colab.output.renderOutput(dataTable, element);\n",
       "          const docLink = document.createElement('div');\n",
       "          docLink.innerHTML = docLinkHtml;\n",
       "          element.appendChild(docLink);\n",
       "        }\n",
       "      </script>\n",
       "    </div>\n",
       "  </div>\n",
       "  "
      ],
      "text/plain": [
       "                Name  Earnings  Year               Sport\n",
       "0     Conor McGregor     180.0  2021  Mixed Martial Arts\n",
       "1       Lionel Messi     130.0  2021              Soccer\n",
       "2  Cristiano Ronaldo     120.0  2021              Soccer\n",
       "3       Dak Prescott     107.5  2021            Football\n",
       "4       LeBron James      96.5  2021          Basketball\n",
       "5             Neymar      95.0  2021              Soccer\n",
       "6      Roger Federer      90.0  2021              Tennis\n",
       "7     Lewis Hamilton      82.0  2021              Racing\n",
       "8          Tom Brady      76.0  2021            Football\n",
       "9       Kevin Durant      75.0  2021          Basketball"
      ]
     },
     "execution_count": 36,
     "metadata": {},
     "output_type": "execute_result"
    }
   ],
   "source": [
    "# loading the first 10 rows of the dataset\n",
    "df1.head(10)"
   ]
  },
  {
   "cell_type": "code",
   "execution_count": null,
   "metadata": {
    "colab": {
     "base_uri": "https://localhost:8080/"
    },
    "executionInfo": {
     "elapsed": 44,
     "status": "ok",
     "timestamp": 1673982188018,
     "user": {
      "displayName": "Rohit Prasan Mandal",
      "userId": "14873299938685600670"
     },
     "user_tz": -330
    },
    "id": "achJ_pUMGeQH",
    "outputId": "a99dc611-0696-4bb6-c660-3cf72469b0a0"
   },
   "outputs": [
    {
     "data": {
      "text/plain": [
       "Index(['Name', 'Earnings', 'Year', 'Sport'], dtype='object')"
      ]
     },
     "execution_count": 37,
     "metadata": {},
     "output_type": "execute_result"
    }
   ],
   "source": [
    "# reviewing the columns of the dataset\n",
    "df1.columns"
   ]
  },
  {
   "cell_type": "code",
   "execution_count": null,
   "metadata": {
    "colab": {
     "base_uri": "https://localhost:8080/",
     "height": 516
    },
    "executionInfo": {
     "elapsed": 1729,
     "status": "ok",
     "timestamp": 1673987354793,
     "user": {
      "displayName": "Rohit Prasan Mandal",
      "userId": "14873299938685600670"
     },
     "user_tz": -330
    },
    "id": "BEyCtvJp55es",
    "outputId": "cfe25213-3f76-4245-fd66-23ca7be173ca"
   },
   "outputs": [
    {
     "data": {
      "image/png": "[encoded data removed]",
      "text/plain": [
       "<Figure size 720x576 with 1 Axes>"
      ]
     },
     "metadata": {
      "needs_background": "light"
     },
     "output_type": "display_data"
    }
   ],
   "source": [
    "plt.figure(figsize=(10,8))\n",
    "for lambd in range(4, 10, 1):\n",
    "    n = df1['Year']\n",
    "    o = df1['Earnings']\n",
    "    poisson = stats.poisson.pmf(n, lambd)\n",
    "    poisson2 = stats.poisson.pmf(o, lambd)\n",
    "    #plt.plot(n, poisson, '-o', label=\"λ = {:f}\".format(lambd))\n",
    "    plt.plot(n, poisson2, '-o', label=\"λ = {:f}\".format(lambd))\n",
    "    plt.xlabel('Year', fontsize=12)\n",
    "    plt.ylabel('Earnings(poisson)', fontsize=12)\n",
    "    plt.title(\"Poisson Distribution varying λ\")\n",
    "    plt.legend()"
   ]
  },
  {
   "cell_type": "code",
   "execution_count": null,
   "metadata": {
    "colab": {
     "base_uri": "https://localhost:8080/",
     "height": 516
    },
    "executionInfo": {
     "elapsed": 1056,
     "status": "ok",
     "timestamp": 1673982656704,
     "user": {
      "displayName": "Rohit Prasan Mandal",
      "userId": "14873299938685600670"
     },
     "user_tz": -330
    },
    "id": "jrqTfCtH6OC6",
    "outputId": "8a17b8d6-68db-475d-9593-1437d943b549"
   },
   "outputs": [
    {
     "data": {
      "image/png": "[encoded data removed]",
      "text/plain": [
       "<Figure size 720x576 with 1 Axes>"
      ]
     },
     "metadata": {
      "needs_background": "light"
     },
     "output_type": "display_data"
    }
   ],
   "source": [
    "plt.figure(figsize=(10,8))\n",
    "for lambd in range(3, 10, 2):\n",
    "    n = df['wt']\n",
    "    poisson = stats.poisson.pmf(n, lambd)\n",
    "    plt.plot(n, poisson, '-o', label=\"λ = {:f}\".format(lambd))\n",
    "    plt.xlabel('weight', fontsize=12)\n",
    "    plt.ylabel('Probability', fontsize=12)\n",
    "    plt.title(\"Poisson Distribution varying λ\")\n",
    "    plt.legend()"
   ]
  },
  {
   "cell_type": "markdown",
   "metadata": {
    "id": "xBVJB9py7cbM"
   },
   "source": [
    "According to the graphs, an increase in the parameter value also results in an increase in the chance of dependency over a predetermined amount of time."
   ]
  },
  {
   "cell_type": "markdown",
   "metadata": {
    "id": "EYJHNQfs5Uyv"
   },
   "source": [
    "The information presented in this graph demonstrates that a rise in the percentage of body fat does not have any impact on the possibility of another event occurring."
   ]
  },
  {
   "cell_type": "markdown",
   "metadata": {
    "id": "DXT7I7FK8X53"
   },
   "source": [
    "## <a id='toc1_10_'></a>[10. Exponential Distribution](#toc0_)"
   ]
  },
  {
   "cell_type": "markdown",
   "metadata": {
    "id": "B4JHVCp0_qcJ"
   },
   "source": [
    "The exponential distribution is a type of continuous probability distribution that typically focuses on the amount of time remaining until a particular event takes place. It is a process in which events take place constantly and independently at a rate that is kept relatively constant overall.\n",
    "\n",
    "* The key property of being memoryless\n",
    "* The exponential random variable can be either more small values or fewer larger variables.\n",
    "\n",
    "You can read more about it in <a href=\"https://en.wikipedia.org/wiki/Exponential_distribution\">This link</a>.<br>"
   ]
  },
  {
   "cell_type": "code",
   "execution_count": null,
   "metadata": {
    "colab": {
     "base_uri": "https://localhost:8080/",
     "height": 516
    },
    "executionInfo": {
     "elapsed": 1259,
     "status": "ok",
     "timestamp": 1673987270827,
     "user": {
      "displayName": "Rohit Prasan Mandal",
      "userId": "14873299938685600670"
     },
     "user_tz": -330
    },
    "id": "Pu13B2bWZ5t1",
    "outputId": "f3efc460-cc04-4986-e241-75b2b9308e62"
   },
   "outputs": [
    {
     "data": {
      "image/png": "[encoded data removed]",
      "text/plain": [
       "<Figure size 720x576 with 1 Axes>"
      ]
     },
     "metadata": {
      "needs_background": "light"
     },
     "output_type": "display_data"
    }
   ],
   "source": [
    "plt.figure(figsize=(10,8))\n",
    "for lambd in range(1,10, 3):\n",
    "    x = df1['Year']\n",
    "    y = 0.1*lambd*np.exp(-0.1*lambd*x)\n",
    "    plt.plot(x,y, label=\"λ = {:f}\".format(0.1*lambd))\n",
    "    plt.xlabel('Year', fontsize=12)\n",
    "    plt.ylabel('Decay Rate', fontsize=12)\n",
    "    plt.title(\"Exponential Distribution varying λ\")\n",
    "    plt.legend()"
   ]
  },
  {
   "cell_type": "markdown",
   "metadata": {
    "id": "UiBbna11Z7ok"
   },
   "source": [
    "This graph represents the year present in data is evenly distributed. "
   ]
  },
  {
   "cell_type": "code",
   "execution_count": null,
   "metadata": {
    "id": "SOIskSCMaGSB"
   },
   "outputs": [],
   "source": [
    "plt.figure(figsize=(10,8))\n",
    "for lambd in range(4, 10, 1):\n",
    "    n = df1['Year']\n",
    "    o = df1['Earnings']\n",
    "    poisson = stats.poisson.pmf(n, lambd)\n",
    "    poisson2 = stats.poisson.pmf(o, lambd)\n",
    "    #plt.plot(n, poisson, '-o', label=\"λ = {:f}\".format(lambd))\n",
    "    plt.plot(n, poisson2, '-o', label=\"λ = {:f}\".format(lambd))\n",
    "    plt.xlabel('Hemaglobin Concentration', fontsize=12)\n",
    "    plt.ylabel('Probability', fontsize=12)\n",
    "    plt.title(\"Poisson Distribution varying λ\")\n",
    "    plt.legend() "
   ]
  },
  {
   "cell_type": "code",
   "execution_count": null,
   "metadata": {
    "colab": {
     "base_uri": "https://localhost:8080/",
     "height": 516
    },
    "executionInfo": {
     "elapsed": 1024,
     "status": "ok",
     "timestamp": 1673987254540,
     "user": {
      "displayName": "Rohit Prasan Mandal",
      "userId": "14873299938685600670"
     },
     "user_tz": -330
    },
    "id": "IJwgqrLd6yKW",
    "outputId": "10f7c117-7a26-4c89-aa52-084afd81589f"
   },
   "outputs": [
    {
     "data": {
      "image/png": "[encoded data removed]",
      "text/plain": [
       "<Figure size 720x576 with 1 Axes>"
      ]
     },
     "metadata": {
      "needs_background": "light"
     },
     "output_type": "display_data"
    }
   ],
   "source": [
    "plt.figure(figsize=(10,8))\n",
    "for lambd in range(1,10, 3):\n",
    "    x = df1['Earnings']\n",
    "    y = 0.1*lambd*np.exp(-0.1*lambd*x)\n",
    "    plt.plot(x,y, label=\"λ = {:f}\".format(0.1*lambd))\n",
    "    plt.xlabel('Earnings', fontsize=12)\n",
    "    plt.ylabel('Decay Rate', fontsize=12)\n",
    "    plt.title(\"Exponential Distribution varying λ\")\n",
    "    plt.legend()"
   ]
  },
  {
   "cell_type": "markdown",
   "metadata": {
    "id": "1laR0wibBdHW"
   },
   "source": [
    "If we look at the graph, we can see that the decay rate is quite low for larger parameter values. This indicates that the distribution of values in the sum of skin folds is less than 150."
   ]
  },
  {
   "cell_type": "code",
   "execution_count": null,
   "metadata": {
    "colab": {
     "base_uri": "https://localhost:8080/",
     "height": 516
    },
    "executionInfo": {
     "elapsed": 983,
     "status": "ok",
     "timestamp": 1673987234557,
     "user": {
      "displayName": "Rohit Prasan Mandal",
      "userId": "14873299938685600670"
     },
     "user_tz": -330
    },
    "id": "Q8cvaI458ddd",
    "outputId": "aa99fdea-9115-4f71-d043-980c1f8f2f9b"
   },
   "outputs": [
    {
     "data": {
      "image/png": "[encoded data removed]",
      "text/plain": [
       "<Figure size 720x576 with 1 Axes>"
      ]
     },
     "metadata": {
      "needs_background": "light"
     },
     "output_type": "display_data"
    }
   ],
   "source": [
    "#dataset 1\n",
    "\n",
    "plt.figure(figsize=(10,8))\n",
    "for lambd in range(1,10, 2):\n",
    "    x = df['lbm']\n",
    "    y = 0.1*lambd*np.exp(-0.1*lambd*x)\n",
    "    plt.plot(x,y, label=\"λ = {:f}\".format(0.1*lambd))\n",
    "    plt.xlabel('Lean Body Mass', fontsize=12)\n",
    "    plt.ylabel('Decay Rate', fontsize=12)\n",
    "    plt.title(\"Exponential Distribution varying λ\")\n",
    "    plt.legend()"
   ]
  },
  {
   "cell_type": "markdown",
   "metadata": {
    "id": "AZqV5k4_CbAS"
   },
   "source": [
    "In a similar manner, we are able to state that a higher parameter value results in a lower decay rate, which in this case shows that the lean body mass is distributed below 90."
   ]
  },
  {
   "cell_type": "markdown",
   "metadata": {
    "id": "Wrmal4lenJID"
   },
   "source": [
    "## <a id='toc1_11_'></a>[11. Conclusion](#toc0_)\n",
    "From this Distributions we are able to find the probability of the occurance."
   ]
  }
 ],
 "metadata": {
  "colab": {
   "provenance": [],
   "toc_visible": true
  },
  "kernelspec": {
   "display_name": "Python 3 (ipykernel)",
   "language": "python",
   "name": "python3"
  },
  "language_info": {
   "codemirror_mode": {
    "name": "ipython",
    "version": 3
   },
   "file_extension": ".py",
   "mimetype": "text/x-python",
   "name": "python",
   "nbconvert_exporter": "python",
   "pygments_lexer": "ipython3",
   "version": "3.11.5"
  },
  "vscode": {
   "interpreter": {
    "hash": "ff71603a556aa915c9d24f7adca11c9408c9f2a9a11ce7d673366ca727b1f00c"
   }
  }
 },
 "nbformat": 4,
 "nbformat_minor": 1
}
